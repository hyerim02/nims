{
 "cells": [
  {
   "cell_type": "markdown",
   "metadata": {},
   "source": [
    "# 리스트"
   ]
  },
  {
   "cell_type": "markdown",
   "metadata": {},
   "source": [
    "## 리스트 인덱싱"
   ]
  },
  {
   "cell_type": "code",
   "execution_count": 1,
   "metadata": {},
   "outputs": [
    {
     "name": "stdout",
     "output_type": "stream",
     "text": [
      "['Brownies', 'Tiramisu', 'Cakes', 'Doughnuts', 'Chocolate Chip Cookies', 'Pudding', 'Tarts']\n",
      "7\n"
     ]
    }
   ],
   "source": [
    "desserts = ['Brownies', 'Tiramisu', 'Cakes', 'Doughnuts', 'Chocolate Chip Cookies', 'Pudding', 'Tarts']\n",
    "print(desserts)\n",
    "print(len(desserts))"
   ]
  },
  {
   "cell_type": "markdown",
   "metadata": {},
   "source": [
    "리스트의 인덱스는 **0부터 시작**합니다."
   ]
  },
  {
   "cell_type": "code",
   "execution_count": 2,
   "metadata": {},
   "outputs": [
    {
     "data": {
      "text/plain": [
       "'Doughnuts'"
      ]
     },
     "execution_count": 2,
     "metadata": {},
     "output_type": "execute_result"
    }
   ],
   "source": [
    "a = 3\n",
    "desserts[a]"
   ]
  },
  {
   "cell_type": "code",
   "execution_count": 3,
   "metadata": {},
   "outputs": [
    {
     "data": {
      "text/plain": [
       "'Cakes'"
      ]
     },
     "execution_count": 3,
     "metadata": {},
     "output_type": "execute_result"
    }
   ],
   "source": [
    "desserts[2]"
   ]
  },
  {
   "cell_type": "markdown",
   "metadata": {},
   "source": [
    "음수 인덱스를 이용하면 오른쪽부터 세어서 읽을 수 있습니다."
   ]
  },
  {
   "cell_type": "code",
   "execution_count": 4,
   "metadata": {},
   "outputs": [
    {
     "data": {
      "text/plain": [
       "'Tarts'"
      ]
     },
     "execution_count": 4,
     "metadata": {},
     "output_type": "execute_result"
    }
   ],
   "source": [
    "desserts[-1]"
   ]
  },
  {
   "cell_type": "code",
   "execution_count": 5,
   "metadata": {},
   "outputs": [
    {
     "data": {
      "text/plain": [
       "'Chocolate Chip Cookies'"
      ]
     },
     "execution_count": 5,
     "metadata": {},
     "output_type": "execute_result"
    }
   ],
   "source": [
    "desserts[-3]"
   ]
  },
  {
   "cell_type": "markdown",
   "metadata": {},
   "source": [
    "리스트의 뒤쪽에 원소를 추가할 수 있습니다."
   ]
  },
  {
   "cell_type": "code",
   "execution_count": 6,
   "metadata": {},
   "outputs": [
    {
     "data": {
      "text/plain": [
       "['Brownies',\n",
       " 'Tiramisu',\n",
       " 'Cakes',\n",
       " 'Doughnuts',\n",
       " 'Chocolate Chip Cookies',\n",
       " 'Pudding',\n",
       " 'Tarts',\n",
       " 'Cupcakes']"
      ]
     },
     "execution_count": 6,
     "metadata": {},
     "output_type": "execute_result"
    }
   ],
   "source": [
    "desserts.append('Cupcakes')\n",
    "desserts"
   ]
  },
  {
   "cell_type": "markdown",
   "metadata": {},
   "source": [
    "리스트 뒤쪽 원소를 없앨 수 있습니다."
   ]
  },
  {
   "cell_type": "code",
   "execution_count": 7,
   "metadata": {},
   "outputs": [
    {
     "name": "stdout",
     "output_type": "stream",
     "text": [
      "Cupcakes\n",
      "Tarts\n",
      "['Brownies', 'Tiramisu', 'Cakes', 'Doughnuts', 'Chocolate Chip Cookies', 'Pudding']\n"
     ]
    }
   ],
   "source": [
    "today = desserts.pop()\n",
    "tomorrow = desserts.pop()\n",
    "print(today)\n",
    "print(tomorrow)\n",
    "print(desserts)"
   ]
  },
  {
   "cell_type": "markdown",
   "metadata": {},
   "source": [
    "Note: 리스트 중간에 넣고 빼는 방법도 있긴 있지만, 가능한 한 안 쓰는 것을 추천합니다. 거의 대부분의 경우 다른 방법을 이용할 수 있습니다."
   ]
  },
  {
   "cell_type": "markdown",
   "metadata": {},
   "source": [
    "Slice를 이용해 한 원소 뿐 아니라 리스트의 부분집합을 읽어올 수도 있습니다. `start:end:step` 순이며, `start` 인덱스부터 `end` **하나 전**까지 읽어옵니다.\n",
    "\n",
    "- 처음부터 읽는 경우 `start` 생략\n",
    "- 마지막까지 읽는 경우 `end` 생략\n",
    "- 간격이 1인 경우 `:step` 통째로 생략할 수 있습니다."
   ]
  },
  {
   "cell_type": "code",
   "execution_count": 8,
   "metadata": {},
   "outputs": [],
   "source": [
    "desserts = [\n",
    "    'Brownies',  # 0\n",
    "    'Tiramisu',\n",
    "    'Cakes',\n",
    "    'Doughnuts',  # 3\n",
    "    'Chocolate Chip Cookies',\n",
    "    'Pudding',  # 5\n",
    "    'Tarts',  # 6\n",
    "]"
   ]
  },
  {
   "cell_type": "code",
   "execution_count": 9,
   "metadata": {},
   "outputs": [
    {
     "data": {
      "text/plain": [
       "['Brownies',\n",
       " 'Tiramisu',\n",
       " 'Cakes',\n",
       " 'Doughnuts',\n",
       " 'Chocolate Chip Cookies',\n",
       " 'Pudding',\n",
       " 'Tarts']"
      ]
     },
     "execution_count": 9,
     "metadata": {},
     "output_type": "execute_result"
    }
   ],
   "source": [
    "desserts[0:7:1]"
   ]
  },
  {
   "cell_type": "code",
   "execution_count": 10,
   "metadata": {},
   "outputs": [
    {
     "data": {
      "text/plain": [
       "['Brownies',\n",
       " 'Tiramisu',\n",
       " 'Cakes',\n",
       " 'Doughnuts',\n",
       " 'Chocolate Chip Cookies',\n",
       " 'Pudding',\n",
       " 'Tarts']"
      ]
     },
     "execution_count": 10,
     "metadata": {},
     "output_type": "execute_result"
    }
   ],
   "source": [
    "desserts[:]"
   ]
  },
  {
   "cell_type": "code",
   "execution_count": 11,
   "metadata": {},
   "outputs": [
    {
     "data": {
      "text/plain": [
       "['Tiramisu', 'Cakes', 'Doughnuts', 'Chocolate Chip Cookies', 'Pudding']"
      ]
     },
     "execution_count": 11,
     "metadata": {},
     "output_type": "execute_result"
    }
   ],
   "source": [
    "desserts[1:6]"
   ]
  },
  {
   "cell_type": "code",
   "execution_count": 12,
   "metadata": {},
   "outputs": [
    {
     "data": {
      "text/plain": [
       "['Brownies', 'Tiramisu', 'Cakes']"
      ]
     },
     "execution_count": 12,
     "metadata": {},
     "output_type": "execute_result"
    }
   ],
   "source": [
    "desserts[:3]"
   ]
  },
  {
   "cell_type": "code",
   "execution_count": 13,
   "metadata": {},
   "outputs": [
    {
     "data": {
      "text/plain": [
       "['Doughnuts', 'Chocolate Chip Cookies', 'Pudding', 'Tarts']"
      ]
     },
     "execution_count": 13,
     "metadata": {},
     "output_type": "execute_result"
    }
   ],
   "source": [
    "desserts[3:]"
   ]
  },
  {
   "cell_type": "code",
   "execution_count": 14,
   "metadata": {},
   "outputs": [
    {
     "data": {
      "text/plain": [
       "['Pudding', 'Tarts']"
      ]
     },
     "execution_count": 14,
     "metadata": {},
     "output_type": "execute_result"
    }
   ],
   "source": [
    "desserts[-2:]"
   ]
  },
  {
   "cell_type": "code",
   "execution_count": 15,
   "metadata": {},
   "outputs": [
    {
     "data": {
      "text/plain": [
       "['Tiramisu', 'Doughnuts', 'Pudding']"
      ]
     },
     "execution_count": 15,
     "metadata": {},
     "output_type": "execute_result"
    }
   ],
   "source": [
    "desserts[1::2]"
   ]
  },
  {
   "cell_type": "code",
   "execution_count": 16,
   "metadata": {},
   "outputs": [
    {
     "data": {
      "text/plain": [
       "['Tarts', 'Pudding', 'Chocolate Chip Cookies']"
      ]
     },
     "execution_count": 16,
     "metadata": {},
     "output_type": "execute_result"
    }
   ],
   "source": [
    "desserts[-1:3:-1]"
   ]
  },
  {
   "cell_type": "markdown",
   "metadata": {},
   "source": [
    "### 💻 Exercise\n",
    "\n",
    "1. 리스트 전체를 뒤집어 보세요"
   ]
  },
  {
   "cell_type": "code",
   "execution_count": 17,
   "metadata": {},
   "outputs": [
    {
     "data": {
      "text/plain": [
       "['Tarts',\n",
       " 'Pudding',\n",
       " 'Chocolate Chip Cookies',\n",
       " 'Doughnuts',\n",
       " 'Cakes',\n",
       " 'Tiramisu',\n",
       " 'Brownies']"
      ]
     },
     "execution_count": 17,
     "metadata": {},
     "output_type": "execute_result"
    }
   ],
   "source": [
    "desserts[::-1]"
   ]
  },
  {
   "cell_type": "markdown",
   "metadata": {},
   "source": [
    "## 리스트 다루기"
   ]
  },
  {
   "cell_type": "markdown",
   "metadata": {},
   "source": [
    "### 정렬"
   ]
  },
  {
   "cell_type": "code",
   "execution_count": 18,
   "metadata": {},
   "outputs": [],
   "source": [
    "desserts = [\n",
    "    'Brownies',\n",
    "    'Tiramisu',\n",
    "    'Cakes',\n",
    "    'Doughnuts',\n",
    "    'Chocolate Chip Cookies',\n",
    "    'Pudding',\n",
    "    'Tarts',\n",
    "]"
   ]
  },
  {
   "cell_type": "code",
   "execution_count": 19,
   "metadata": {},
   "outputs": [
    {
     "name": "stdout",
     "output_type": "stream",
     "text": [
      "['Brownies', 'Cakes', 'Chocolate Chip Cookies', 'Doughnuts', 'Pudding', 'Tarts', 'Tiramisu']\n",
      "['Brownies', 'Tiramisu', 'Cakes', 'Doughnuts', 'Chocolate Chip Cookies', 'Pudding', 'Tarts']\n"
     ]
    }
   ],
   "source": [
    "sorted_desserts = sorted(desserts)\n",
    "print(sorted_desserts)\n",
    "print(desserts)"
   ]
  },
  {
   "cell_type": "code",
   "execution_count": 20,
   "metadata": {},
   "outputs": [
    {
     "name": "stdout",
     "output_type": "stream",
     "text": [
      "['Tiramisu', 'Tarts', 'Pudding', 'Doughnuts', 'Chocolate Chip Cookies', 'Cakes', 'Brownies']\n",
      "['Brownies', 'Tiramisu', 'Cakes', 'Doughnuts', 'Chocolate Chip Cookies', 'Pudding', 'Tarts']\n"
     ]
    }
   ],
   "source": [
    "sorted_desserts = sorted(desserts, reverse=True)\n",
    "print(sorted_desserts)\n",
    "print(desserts)"
   ]
  },
  {
   "cell_type": "markdown",
   "metadata": {},
   "source": [
    "임의의 함수를 적용한 값을 기준으로 정렬할 수 있습니다. 그리고 Python의 정렬은 안정 정렬<sup>stable sort</sup>입니다."
   ]
  },
  {
   "cell_type": "code",
   "execution_count": 21,
   "metadata": {},
   "outputs": [
    {
     "name": "stdout",
     "output_type": "stream",
     "text": [
      "['Cakes', 'Tarts', 'Pudding', 'Brownies', 'Tiramisu', 'Doughnuts', 'Chocolate Chip Cookies']\n",
      "['Brownies', 'Tiramisu', 'Cakes', 'Doughnuts', 'Chocolate Chip Cookies', 'Pudding', 'Tarts']\n"
     ]
    }
   ],
   "source": [
    "sorted_desserts = sorted(desserts, key=len)\n",
    "print(sorted_desserts)\n",
    "print(desserts)"
   ]
  },
  {
   "cell_type": "code",
   "execution_count": 22,
   "metadata": {},
   "outputs": [
    {
     "name": "stdout",
     "output_type": "stream",
     "text": [
      "['Chocolate Chip Cookies', 'Doughnuts', 'Brownies', 'Tiramisu', 'Pudding', 'Cakes', 'Tarts']\n",
      "['Brownies', 'Tiramisu', 'Cakes', 'Doughnuts', 'Chocolate Chip Cookies', 'Pudding', 'Tarts']\n"
     ]
    }
   ],
   "source": [
    "sorted_desserts = sorted(desserts, key=lambda x: -len(x))\n",
    "print(sorted_desserts)\n",
    "print(desserts)"
   ]
  }
 ],
 "metadata": {
  "kernelspec": {
   "display_name": "Python 3",
   "language": "python",
   "name": "python3"
  },
  "language_info": {
   "codemirror_mode": {
    "name": "ipython",
    "version": 3
   },
   "file_extension": ".py",
   "mimetype": "text/x-python",
   "name": "python",
   "nbconvert_exporter": "python",
   "pygments_lexer": "ipython3",
   "version": "3.7.1"
  }
 },
 "nbformat": 4,
 "nbformat_minor": 2
}
