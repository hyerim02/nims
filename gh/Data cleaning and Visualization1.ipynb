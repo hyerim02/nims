{
 "cells": [
  {
   "cell_type": "code",
   "execution_count": 1,
   "metadata": {
    "ExecuteTime": {
     "end_time": "2022-10-18T17:07:38.333135Z",
     "start_time": "2022-10-18T17:07:35.934504Z"
    }
   },
   "outputs": [],
   "source": [
    "import pandas as pd\n",
    "import numpy as np\n",
    "import os\n",
    "import glob\n",
    "import re"
   ]
  },
  {
   "cell_type": "code",
   "execution_count": 2,
   "metadata": {
    "ExecuteTime": {
     "end_time": "2022-10-18T17:07:44.584600Z",
     "start_time": "2022-10-18T17:07:44.556322Z"
    }
   },
   "outputs": [
    {
     "data": {
      "text/plain": [
       "['1-1. Data Cleaning & Visualization.html',\n",
       " '1-2. Data Cleaning & Visualization.html',\n",
       " 'GH_academy.html',\n",
       " 'Untitled.ipynb']"
      ]
     },
     "execution_count": 2,
     "metadata": {},
     "output_type": "execute_result"
    }
   ],
   "source": [
    "glob.glob('*.*')"
   ]
  },
  {
   "cell_type": "code",
   "execution_count": 3,
   "metadata": {
    "ExecuteTime": {
     "end_time": "2022-10-18T17:07:59.282000Z",
     "start_time": "2022-10-18T17:07:59.261055Z"
    }
   },
   "outputs": [
    {
     "data": {
      "text/plain": [
       "['data\\\\2018_modified_data.xlsx',\n",
       " 'data\\\\2018_raw_data.xlsx',\n",
       " 'data\\\\seoul_municipalities_geo_simple.json',\n",
       " 'data\\\\skorea_municipalities_geo_simple.json',\n",
       " 'data\\\\단독다가구(매매)_실거래가_ (1).xlsx',\n",
       " 'data\\\\단독다가구(매매)_실거래가_ (10).xlsx',\n",
       " 'data\\\\단독다가구(매매)_실거래가_ (11).xlsx',\n",
       " 'data\\\\단독다가구(매매)_실거래가_ (12).xlsx',\n",
       " 'data\\\\단독다가구(매매)_실거래가_ (2).xlsx',\n",
       " 'data\\\\단독다가구(매매)_실거래가_ (3).xlsx',\n",
       " 'data\\\\단독다가구(매매)_실거래가_ (4).xlsx',\n",
       " 'data\\\\단독다가구(매매)_실거래가_ (5).xlsx',\n",
       " 'data\\\\단독다가구(매매)_실거래가_ (6).xlsx',\n",
       " 'data\\\\단독다가구(매매)_실거래가_ (7).xlsx',\n",
       " 'data\\\\단독다가구(매매)_실거래가_ (8).xlsx',\n",
       " 'data\\\\단독다가구(매매)_실거래가_ (9).xlsx',\n",
       " 'data\\\\지역_ID.txt']"
      ]
     },
     "execution_count": 3,
     "metadata": {},
     "output_type": "execute_result"
    }
   ],
   "source": [
    "glob.glob(os.path.join(\"data\",\"*.*\"))"
   ]
  },
  {
   "cell_type": "code",
   "execution_count": 4,
   "metadata": {
    "ExecuteTime": {
     "end_time": "2022-10-18T17:08:07.291351Z",
     "start_time": "2022-10-18T17:08:07.268411Z"
    }
   },
   "outputs": [
    {
     "data": {
      "text/plain": [
       "['data\\\\단독다가구(매매)_실거래가_ (1).xlsx',\n",
       " 'data\\\\단독다가구(매매)_실거래가_ (10).xlsx',\n",
       " 'data\\\\단독다가구(매매)_실거래가_ (11).xlsx',\n",
       " 'data\\\\단독다가구(매매)_실거래가_ (12).xlsx',\n",
       " 'data\\\\단독다가구(매매)_실거래가_ (2).xlsx',\n",
       " 'data\\\\단독다가구(매매)_실거래가_ (3).xlsx',\n",
       " 'data\\\\단독다가구(매매)_실거래가_ (4).xlsx',\n",
       " 'data\\\\단독다가구(매매)_실거래가_ (5).xlsx',\n",
       " 'data\\\\단독다가구(매매)_실거래가_ (6).xlsx',\n",
       " 'data\\\\단독다가구(매매)_실거래가_ (7).xlsx',\n",
       " 'data\\\\단독다가구(매매)_실거래가_ (8).xlsx',\n",
       " 'data\\\\단독다가구(매매)_실거래가_ (9).xlsx']"
      ]
     },
     "execution_count": 4,
     "metadata": {},
     "output_type": "execute_result"
    }
   ],
   "source": [
    "filenames = glob.glob(os.path.join(\"data\",\"단독*.xlsx\")) # open all excel files\n",
    "filenames"
   ]
  },
  {
   "cell_type": "code",
   "execution_count": 5,
   "metadata": {
    "ExecuteTime": {
     "end_time": "2022-10-18T17:08:14.581668Z",
     "start_time": "2022-10-18T17:08:14.575681Z"
    }
   },
   "outputs": [
    {
     "data": {
      "text/plain": [
       "['data\\\\단독다가구(매매)_실거래가_ (', '10', ').xlsx']"
      ]
     },
     "execution_count": 5,
     "metadata": {},
     "output_type": "execute_result"
    }
   ],
   "source": [
    "re.split('([0-9]+)', filenames[1])"
   ]
  },
  {
   "cell_type": "code",
   "execution_count": 6,
   "metadata": {
    "ExecuteTime": {
     "end_time": "2022-10-18T17:08:22.195101Z",
     "start_time": "2022-10-18T17:08:22.183302Z"
    }
   },
   "outputs": [
    {
     "data": {
      "text/plain": [
       "['data\\\\단독다가구(매매)_실거래가_ (1).xlsx',\n",
       " 'data\\\\단독다가구(매매)_실거래가_ (2).xlsx',\n",
       " 'data\\\\단독다가구(매매)_실거래가_ (3).xlsx',\n",
       " 'data\\\\단독다가구(매매)_실거래가_ (4).xlsx',\n",
       " 'data\\\\단독다가구(매매)_실거래가_ (5).xlsx',\n",
       " 'data\\\\단독다가구(매매)_실거래가_ (6).xlsx',\n",
       " 'data\\\\단독다가구(매매)_실거래가_ (7).xlsx',\n",
       " 'data\\\\단독다가구(매매)_실거래가_ (8).xlsx',\n",
       " 'data\\\\단독다가구(매매)_실거래가_ (9).xlsx',\n",
       " 'data\\\\단독다가구(매매)_실거래가_ (10).xlsx',\n",
       " 'data\\\\단독다가구(매매)_실거래가_ (11).xlsx',\n",
       " 'data\\\\단독다가구(매매)_실거래가_ (12).xlsx']"
      ]
     },
     "execution_count": 6,
     "metadata": {},
     "output_type": "execute_result"
    }
   ],
   "source": [
    "# filename 오름차순정렬\n",
    "filenames = sorted( filenames, \n",
    "                   key=lambda s: int(re.split('([0-9]+)', s)[1]),\n",
    "#                     reverse=False, # ascending (default)\n",
    "#                     reverse=True, # descending\n",
    "                  ) \n",
    "filenames"
   ]
  },
  {
   "cell_type": "code",
   "execution_count": 9,
   "metadata": {
    "ExecuteTime": {
     "end_time": "2022-10-18T17:09:02.691607Z",
     "start_time": "2022-10-18T17:08:59.276126Z"
    }
   },
   "outputs": [
    {
     "data": {
      "text/html": [
       "<div>\n",
       "<style scoped>\n",
       "    .dataframe tbody tr th:only-of-type {\n",
       "        vertical-align: middle;\n",
       "    }\n",
       "\n",
       "    .dataframe tbody tr th {\n",
       "        vertical-align: top;\n",
       "    }\n",
       "\n",
       "    .dataframe thead th {\n",
       "        text-align: right;\n",
       "    }\n",
       "</style>\n",
       "<table border=\"1\" class=\"dataframe\">\n",
       "  <thead>\n",
       "    <tr style=\"text-align: right;\">\n",
       "      <th></th>\n",
       "      <th>시군구</th>\n",
       "      <th>번지</th>\n",
       "      <th>주택유형</th>\n",
       "      <th>도로조건</th>\n",
       "      <th>연면적(㎡)</th>\n",
       "      <th>대지면적(㎡)</th>\n",
       "      <th>계약년월</th>\n",
       "      <th>계약일</th>\n",
       "      <th>거래금액(만원)</th>\n",
       "      <th>건축년도</th>\n",
       "      <th>도로명</th>\n",
       "    </tr>\n",
       "  </thead>\n",
       "  <tbody>\n",
       "    <tr>\n",
       "      <th>0</th>\n",
       "      <td>강원도 강릉시 강동면 모전리</td>\n",
       "      <td>3**</td>\n",
       "      <td>단독</td>\n",
       "      <td>8m미만</td>\n",
       "      <td>64.20</td>\n",
       "      <td>205.0</td>\n",
       "      <td>201801</td>\n",
       "      <td>11~20</td>\n",
       "      <td>10,520</td>\n",
       "      <td>2018.0</td>\n",
       "      <td>강동초교길</td>\n",
       "    </tr>\n",
       "    <tr>\n",
       "      <th>1</th>\n",
       "      <td>강원도 강릉시 견소동</td>\n",
       "      <td>2**</td>\n",
       "      <td>단독</td>\n",
       "      <td>12m미만</td>\n",
       "      <td>35.60</td>\n",
       "      <td>81.0</td>\n",
       "      <td>201801</td>\n",
       "      <td>1~10</td>\n",
       "      <td>4,000</td>\n",
       "      <td>1990.0</td>\n",
       "      <td>창해로</td>\n",
       "    </tr>\n",
       "    <tr>\n",
       "      <th>2</th>\n",
       "      <td>강원도 강릉시 교동</td>\n",
       "      <td>9**</td>\n",
       "      <td>단독</td>\n",
       "      <td>12m미만</td>\n",
       "      <td>99.90</td>\n",
       "      <td>160.0</td>\n",
       "      <td>201801</td>\n",
       "      <td>11~20</td>\n",
       "      <td>16,500</td>\n",
       "      <td>1982.0</td>\n",
       "      <td>원대로8번길</td>\n",
       "    </tr>\n",
       "    <tr>\n",
       "      <th>3</th>\n",
       "      <td>강원도 강릉시 교동</td>\n",
       "      <td>1***</td>\n",
       "      <td>단독</td>\n",
       "      <td>12m미만</td>\n",
       "      <td>326.88</td>\n",
       "      <td>211.6</td>\n",
       "      <td>201801</td>\n",
       "      <td>1~10</td>\n",
       "      <td>64,300</td>\n",
       "      <td>2005.0</td>\n",
       "      <td>율곡초교길47번길</td>\n",
       "    </tr>\n",
       "    <tr>\n",
       "      <th>4</th>\n",
       "      <td>강원도 강릉시 교동</td>\n",
       "      <td>9**</td>\n",
       "      <td>단독</td>\n",
       "      <td>8m미만</td>\n",
       "      <td>154.99</td>\n",
       "      <td>240.2</td>\n",
       "      <td>201801</td>\n",
       "      <td>11~20</td>\n",
       "      <td>19,000</td>\n",
       "      <td>1980.0</td>\n",
       "      <td>원대로20번길</td>\n",
       "    </tr>\n",
       "  </tbody>\n",
       "</table>\n",
       "</div>"
      ],
      "text/plain": [
       "               시군구    번지 주택유형   도로조건  연면적(㎡)  대지면적(㎡)    계약년월    계약일  \\\n",
       "0  강원도 강릉시 강동면 모전리   3**   단독   8m미만   64.20    205.0  201801  11~20   \n",
       "1      강원도 강릉시 견소동   2**   단독  12m미만   35.60     81.0  201801   1~10   \n",
       "2       강원도 강릉시 교동   9**   단독  12m미만   99.90    160.0  201801  11~20   \n",
       "3       강원도 강릉시 교동  1***   단독  12m미만  326.88    211.6  201801   1~10   \n",
       "4       강원도 강릉시 교동   9**   단독   8m미만  154.99    240.2  201801  11~20   \n",
       "\n",
       "         거래금액(만원)    건축년도        도로명  \n",
       "0          10,520  2018.0      강동초교길  \n",
       "1           4,000  1990.0        창해로  \n",
       "2          16,500  1982.0     원대로8번길  \n",
       "3          64,300  2005.0  율곡초교길47번길  \n",
       "4          19,000  1980.0    원대로20번길  "
      ]
     },
     "execution_count": 9,
     "metadata": {},
     "output_type": "execute_result"
    }
   ],
   "source": [
    "df0 = pd.read_excel('data\\\\단독다가구(매매)_실거래가_ (1).xlsx', \n",
    "                    header = 16\n",
    "                    ).fillna(0)\n",
    "df0.head()"
   ]
  },
  {
   "cell_type": "code",
   "execution_count": 10,
   "metadata": {
    "ExecuteTime": {
     "end_time": "2022-10-18T17:09:05.618078Z",
     "start_time": "2022-10-18T17:09:05.607108Z"
    }
   },
   "outputs": [
    {
     "data": {
      "text/plain": [
       "7862"
      ]
     },
     "execution_count": 10,
     "metadata": {},
     "output_type": "execute_result"
    }
   ],
   "source": [
    "len(df0)"
   ]
  },
  {
   "cell_type": "code",
   "execution_count": 11,
   "metadata": {
    "ExecuteTime": {
     "end_time": "2022-10-18T17:09:10.162822Z",
     "start_time": "2022-10-18T17:09:10.146413Z"
    }
   },
   "outputs": [
    {
     "data": {
      "text/html": [
       "<div>\n",
       "<style scoped>\n",
       "    .dataframe tbody tr th:only-of-type {\n",
       "        vertical-align: middle;\n",
       "    }\n",
       "\n",
       "    .dataframe tbody tr th {\n",
       "        vertical-align: top;\n",
       "    }\n",
       "\n",
       "    .dataframe thead th {\n",
       "        text-align: right;\n",
       "    }\n",
       "</style>\n",
       "<table border=\"1\" class=\"dataframe\">\n",
       "  <thead>\n",
       "    <tr style=\"text-align: right;\">\n",
       "      <th></th>\n",
       "    </tr>\n",
       "  </thead>\n",
       "  <tbody>\n",
       "  </tbody>\n",
       "</table>\n",
       "</div>"
      ],
      "text/plain": [
       "Empty DataFrame\n",
       "Columns: []\n",
       "Index: []"
      ]
     },
     "execution_count": 11,
     "metadata": {},
     "output_type": "execute_result"
    }
   ],
   "source": [
    "df_raw = pd.DataFrame()    # empty dataframe \n",
    "df_raw"
   ]
  },
  {
   "cell_type": "code",
   "execution_count": 14,
   "metadata": {
    "ExecuteTime": {
     "end_time": "2022-10-18T17:10:39.410980Z",
     "start_time": "2022-10-18T17:09:58.485915Z"
    }
   },
   "outputs": [],
   "source": [
    "df_raw = pd.DataFrame()\n",
    "for f in filenames:\n",
    "    data = pd.read_excel(f, header = 16).fillna(0)\n",
    "    df_raw = df_raw.append(data)"
   ]
  },
  {
   "cell_type": "code",
   "execution_count": 15,
   "metadata": {
    "ExecuteTime": {
     "end_time": "2022-10-18T17:10:39.427936Z",
     "start_time": "2022-10-18T17:10:39.416545Z"
    }
   },
   "outputs": [
    {
     "data": {
      "text/plain": [
       "93156"
      ]
     },
     "execution_count": 15,
     "metadata": {},
     "output_type": "execute_result"
    }
   ],
   "source": [
    "len(df_raw)"
   ]
  },
  {
   "cell_type": "code",
   "execution_count": 16,
   "metadata": {
    "ExecuteTime": {
     "end_time": "2022-10-18T17:10:39.504729Z",
     "start_time": "2022-10-18T17:10:39.432924Z"
    }
   },
   "outputs": [
    {
     "data": {
      "text/html": [
       "<div>\n",
       "<style scoped>\n",
       "    .dataframe tbody tr th:only-of-type {\n",
       "        vertical-align: middle;\n",
       "    }\n",
       "\n",
       "    .dataframe tbody tr th {\n",
       "        vertical-align: top;\n",
       "    }\n",
       "\n",
       "    .dataframe thead th {\n",
       "        text-align: right;\n",
       "    }\n",
       "</style>\n",
       "<table border=\"1\" class=\"dataframe\">\n",
       "  <thead>\n",
       "    <tr style=\"text-align: right;\">\n",
       "      <th></th>\n",
       "      <th>시군구</th>\n",
       "      <th>번지</th>\n",
       "      <th>주택유형</th>\n",
       "      <th>도로조건</th>\n",
       "      <th>연면적(㎡)</th>\n",
       "      <th>대지면적(㎡)</th>\n",
       "      <th>계약년월</th>\n",
       "      <th>계약일</th>\n",
       "      <th>거래금액(만원)</th>\n",
       "      <th>건축년도</th>\n",
       "      <th>도로명</th>\n",
       "    </tr>\n",
       "  </thead>\n",
       "  <tbody>\n",
       "    <tr>\n",
       "      <th>4967</th>\n",
       "      <td>충청북도 충주시 용탄동</td>\n",
       "      <td>3**</td>\n",
       "      <td>단독</td>\n",
       "      <td>8m미만</td>\n",
       "      <td>84.50</td>\n",
       "      <td>228.0</td>\n",
       "      <td>201812</td>\n",
       "      <td>21~31</td>\n",
       "      <td>5,700</td>\n",
       "      <td>1996.0</td>\n",
       "      <td>사래실길</td>\n",
       "    </tr>\n",
       "    <tr>\n",
       "      <th>4968</th>\n",
       "      <td>충청북도 충주시 중앙탑면 창동리</td>\n",
       "      <td>2**</td>\n",
       "      <td>단독</td>\n",
       "      <td>8m미만</td>\n",
       "      <td>42.34</td>\n",
       "      <td>383.0</td>\n",
       "      <td>201812</td>\n",
       "      <td>11~20</td>\n",
       "      <td>3,800</td>\n",
       "      <td>1964.0</td>\n",
       "      <td>청금로</td>\n",
       "    </tr>\n",
       "    <tr>\n",
       "      <th>4969</th>\n",
       "      <td>충청북도 충주시 칠금동</td>\n",
       "      <td>7**</td>\n",
       "      <td>단독</td>\n",
       "      <td>12m미만</td>\n",
       "      <td>313.89</td>\n",
       "      <td>178.9</td>\n",
       "      <td>201812</td>\n",
       "      <td>1~10</td>\n",
       "      <td>36,700</td>\n",
       "      <td>2004.0</td>\n",
       "      <td>칠금6길</td>\n",
       "    </tr>\n",
       "    <tr>\n",
       "      <th>4970</th>\n",
       "      <td>충청북도 충주시 호암동</td>\n",
       "      <td>1**</td>\n",
       "      <td>다가구</td>\n",
       "      <td>8m미만</td>\n",
       "      <td>368.28</td>\n",
       "      <td>285.0</td>\n",
       "      <td>201812</td>\n",
       "      <td>21~31</td>\n",
       "      <td>65,000</td>\n",
       "      <td>2018.0</td>\n",
       "      <td>원호암3길</td>\n",
       "    </tr>\n",
       "    <tr>\n",
       "      <th>4971</th>\n",
       "      <td>충청북도 충주시 호암동</td>\n",
       "      <td>1**</td>\n",
       "      <td>단독</td>\n",
       "      <td>25m이상</td>\n",
       "      <td>40.67</td>\n",
       "      <td>492.0</td>\n",
       "      <td>201812</td>\n",
       "      <td>1~10</td>\n",
       "      <td>20,500</td>\n",
       "      <td>1950.0</td>\n",
       "      <td>형설로</td>\n",
       "    </tr>\n",
       "  </tbody>\n",
       "</table>\n",
       "</div>"
      ],
      "text/plain": [
       "                    시군구   번지 주택유형   도로조건  연면적(㎡)  대지면적(㎡)    계약년월    계약일  \\\n",
       "4967       충청북도 충주시 용탄동  3**   단독   8m미만   84.50    228.0  201812  21~31   \n",
       "4968  충청북도 충주시 중앙탑면 창동리  2**   단독   8m미만   42.34    383.0  201812  11~20   \n",
       "4969       충청북도 충주시 칠금동  7**   단독  12m미만  313.89    178.9  201812   1~10   \n",
       "4970       충청북도 충주시 호암동  1**  다가구   8m미만  368.28    285.0  201812  21~31   \n",
       "4971       충청북도 충주시 호암동  1**   단독  25m이상   40.67    492.0  201812   1~10   \n",
       "\n",
       "            거래금액(만원)    건축년도    도로명  \n",
       "4967           5,700  1996.0   사래실길  \n",
       "4968           3,800  1964.0    청금로  \n",
       "4969          36,700  2004.0   칠금6길  \n",
       "4970          65,000  2018.0  원호암3길  \n",
       "4971          20,500  1950.0    형설로  "
      ]
     },
     "execution_count": 16,
     "metadata": {},
     "output_type": "execute_result"
    }
   ],
   "source": [
    "df_raw.tail()"
   ]
  },
  {
   "cell_type": "code",
   "execution_count": 17,
   "metadata": {
    "ExecuteTime": {
     "end_time": "2022-10-18T17:10:39.549611Z",
     "start_time": "2022-10-18T17:10:39.518691Z"
    }
   },
   "outputs": [
    {
     "data": {
      "text/html": [
       "<div>\n",
       "<style scoped>\n",
       "    .dataframe tbody tr th:only-of-type {\n",
       "        vertical-align: middle;\n",
       "    }\n",
       "\n",
       "    .dataframe tbody tr th {\n",
       "        vertical-align: top;\n",
       "    }\n",
       "\n",
       "    .dataframe thead th {\n",
       "        text-align: right;\n",
       "    }\n",
       "</style>\n",
       "<table border=\"1\" class=\"dataframe\">\n",
       "  <thead>\n",
       "    <tr style=\"text-align: right;\">\n",
       "      <th></th>\n",
       "      <th>시군구</th>\n",
       "      <th>번지</th>\n",
       "      <th>주택유형</th>\n",
       "      <th>도로조건</th>\n",
       "      <th>연면적(㎡)</th>\n",
       "      <th>대지면적(㎡)</th>\n",
       "      <th>계약년월</th>\n",
       "      <th>계약일</th>\n",
       "      <th>거래금액(만원)</th>\n",
       "      <th>건축년도</th>\n",
       "      <th>도로명</th>\n",
       "    </tr>\n",
       "  </thead>\n",
       "  <tbody>\n",
       "    <tr>\n",
       "      <th>93151</th>\n",
       "      <td>충청북도 충주시 용탄동</td>\n",
       "      <td>3**</td>\n",
       "      <td>단독</td>\n",
       "      <td>8m미만</td>\n",
       "      <td>84.50</td>\n",
       "      <td>228.0</td>\n",
       "      <td>201812</td>\n",
       "      <td>21~31</td>\n",
       "      <td>5,700</td>\n",
       "      <td>1996.0</td>\n",
       "      <td>사래실길</td>\n",
       "    </tr>\n",
       "    <tr>\n",
       "      <th>93152</th>\n",
       "      <td>충청북도 충주시 중앙탑면 창동리</td>\n",
       "      <td>2**</td>\n",
       "      <td>단독</td>\n",
       "      <td>8m미만</td>\n",
       "      <td>42.34</td>\n",
       "      <td>383.0</td>\n",
       "      <td>201812</td>\n",
       "      <td>11~20</td>\n",
       "      <td>3,800</td>\n",
       "      <td>1964.0</td>\n",
       "      <td>청금로</td>\n",
       "    </tr>\n",
       "    <tr>\n",
       "      <th>93153</th>\n",
       "      <td>충청북도 충주시 칠금동</td>\n",
       "      <td>7**</td>\n",
       "      <td>단독</td>\n",
       "      <td>12m미만</td>\n",
       "      <td>313.89</td>\n",
       "      <td>178.9</td>\n",
       "      <td>201812</td>\n",
       "      <td>1~10</td>\n",
       "      <td>36,700</td>\n",
       "      <td>2004.0</td>\n",
       "      <td>칠금6길</td>\n",
       "    </tr>\n",
       "    <tr>\n",
       "      <th>93154</th>\n",
       "      <td>충청북도 충주시 호암동</td>\n",
       "      <td>1**</td>\n",
       "      <td>다가구</td>\n",
       "      <td>8m미만</td>\n",
       "      <td>368.28</td>\n",
       "      <td>285.0</td>\n",
       "      <td>201812</td>\n",
       "      <td>21~31</td>\n",
       "      <td>65,000</td>\n",
       "      <td>2018.0</td>\n",
       "      <td>원호암3길</td>\n",
       "    </tr>\n",
       "    <tr>\n",
       "      <th>93155</th>\n",
       "      <td>충청북도 충주시 호암동</td>\n",
       "      <td>1**</td>\n",
       "      <td>단독</td>\n",
       "      <td>25m이상</td>\n",
       "      <td>40.67</td>\n",
       "      <td>492.0</td>\n",
       "      <td>201812</td>\n",
       "      <td>1~10</td>\n",
       "      <td>20,500</td>\n",
       "      <td>1950.0</td>\n",
       "      <td>형설로</td>\n",
       "    </tr>\n",
       "  </tbody>\n",
       "</table>\n",
       "</div>"
      ],
      "text/plain": [
       "                     시군구   번지 주택유형   도로조건  연면적(㎡)  대지면적(㎡)    계약년월    계약일  \\\n",
       "93151       충청북도 충주시 용탄동  3**   단독   8m미만   84.50    228.0  201812  21~31   \n",
       "93152  충청북도 충주시 중앙탑면 창동리  2**   단독   8m미만   42.34    383.0  201812  11~20   \n",
       "93153       충청북도 충주시 칠금동  7**   단독  12m미만  313.89    178.9  201812   1~10   \n",
       "93154       충청북도 충주시 호암동  1**  다가구   8m미만  368.28    285.0  201812  21~31   \n",
       "93155       충청북도 충주시 호암동  1**   단독  25m이상   40.67    492.0  201812   1~10   \n",
       "\n",
       "             거래금액(만원)    건축년도    도로명  \n",
       "93151           5,700  1996.0   사래실길  \n",
       "93152           3,800  1964.0    청금로  \n",
       "93153          36,700  2004.0   칠금6길  \n",
       "93154          65,000  2018.0  원호암3길  \n",
       "93155          20,500  1950.0    형설로  "
      ]
     },
     "execution_count": 17,
     "metadata": {},
     "output_type": "execute_result"
    }
   ],
   "source": [
    "df_raw.reset_index(inplace=True, drop=True) # 인덱스 정리\n",
    "df_raw.tail()"
   ]
  },
  {
   "cell_type": "code",
   "execution_count": 18,
   "metadata": {
    "ExecuteTime": {
     "end_time": "2022-10-18T17:11:25.697713Z",
     "start_time": "2022-10-18T17:10:43.202167Z"
    }
   },
   "outputs": [
    {
     "data": {
      "text/plain": [
       "['data\\\\2018_modified_data.xlsx',\n",
       " 'data\\\\2018_raw_data.xlsx',\n",
       " 'data\\\\2018_raw_data_my.xlsx',\n",
       " 'data\\\\seoul_municipalities_geo_simple.json',\n",
       " 'data\\\\skorea_municipalities_geo_simple.json',\n",
       " 'data\\\\단독다가구(매매)_실거래가_ (1).xlsx',\n",
       " 'data\\\\단독다가구(매매)_실거래가_ (10).xlsx',\n",
       " 'data\\\\단독다가구(매매)_실거래가_ (11).xlsx',\n",
       " 'data\\\\단독다가구(매매)_실거래가_ (12).xlsx',\n",
       " 'data\\\\단독다가구(매매)_실거래가_ (2).xlsx',\n",
       " 'data\\\\단독다가구(매매)_실거래가_ (3).xlsx',\n",
       " 'data\\\\단독다가구(매매)_실거래가_ (4).xlsx',\n",
       " 'data\\\\단독다가구(매매)_실거래가_ (5).xlsx',\n",
       " 'data\\\\단독다가구(매매)_실거래가_ (6).xlsx',\n",
       " 'data\\\\단독다가구(매매)_실거래가_ (7).xlsx',\n",
       " 'data\\\\단독다가구(매매)_실거래가_ (8).xlsx',\n",
       " 'data\\\\단독다가구(매매)_실거래가_ (9).xlsx',\n",
       " 'data\\\\지역_ID.txt']"
      ]
     },
     "execution_count": 18,
     "metadata": {},
     "output_type": "execute_result"
    }
   ],
   "source": [
    "# 파일 저장\n",
    "df_raw.to_excel('data/2018_raw_data_my.xlsx',index=None, encoding='utf-8') \n",
    "glob.glob(os.path.join(\"data\",\"*.*\"))"
   ]
  },
  {
   "cell_type": "code",
   "execution_count": 20,
   "metadata": {
    "ExecuteTime": {
     "end_time": "2022-10-18T17:12:08.395451Z",
     "start_time": "2022-10-18T17:11:40.824982Z"
    }
   },
   "outputs": [
    {
     "data": {
      "text/html": [
       "<div>\n",
       "<style scoped>\n",
       "    .dataframe tbody tr th:only-of-type {\n",
       "        vertical-align: middle;\n",
       "    }\n",
       "\n",
       "    .dataframe tbody tr th {\n",
       "        vertical-align: top;\n",
       "    }\n",
       "\n",
       "    .dataframe thead th {\n",
       "        text-align: right;\n",
       "    }\n",
       "</style>\n",
       "<table border=\"1\" class=\"dataframe\">\n",
       "  <thead>\n",
       "    <tr style=\"text-align: right;\">\n",
       "      <th></th>\n",
       "      <th>시군구</th>\n",
       "      <th>번지</th>\n",
       "      <th>주택유형</th>\n",
       "      <th>도로조건</th>\n",
       "      <th>연면적(㎡)</th>\n",
       "      <th>대지면적(㎡)</th>\n",
       "      <th>계약년월</th>\n",
       "      <th>계약일</th>\n",
       "      <th>거래금액(만원)</th>\n",
       "      <th>건축년도</th>\n",
       "      <th>도로명</th>\n",
       "    </tr>\n",
       "  </thead>\n",
       "  <tbody>\n",
       "    <tr>\n",
       "      <th>0</th>\n",
       "      <td>강원도 강릉시 강동면 모전리</td>\n",
       "      <td>3**</td>\n",
       "      <td>단독</td>\n",
       "      <td>8m미만</td>\n",
       "      <td>64.20</td>\n",
       "      <td>205.0</td>\n",
       "      <td>201801</td>\n",
       "      <td>11~20</td>\n",
       "      <td>10,520</td>\n",
       "      <td>2018</td>\n",
       "      <td>강동초교길</td>\n",
       "    </tr>\n",
       "    <tr>\n",
       "      <th>1</th>\n",
       "      <td>강원도 강릉시 견소동</td>\n",
       "      <td>2**</td>\n",
       "      <td>단독</td>\n",
       "      <td>12m미만</td>\n",
       "      <td>35.60</td>\n",
       "      <td>81.0</td>\n",
       "      <td>201801</td>\n",
       "      <td>1~10</td>\n",
       "      <td>4,000</td>\n",
       "      <td>1990</td>\n",
       "      <td>창해로</td>\n",
       "    </tr>\n",
       "    <tr>\n",
       "      <th>2</th>\n",
       "      <td>강원도 강릉시 교동</td>\n",
       "      <td>9**</td>\n",
       "      <td>단독</td>\n",
       "      <td>12m미만</td>\n",
       "      <td>99.90</td>\n",
       "      <td>160.0</td>\n",
       "      <td>201801</td>\n",
       "      <td>11~20</td>\n",
       "      <td>16,500</td>\n",
       "      <td>1982</td>\n",
       "      <td>원대로8번길</td>\n",
       "    </tr>\n",
       "    <tr>\n",
       "      <th>3</th>\n",
       "      <td>강원도 강릉시 교동</td>\n",
       "      <td>1***</td>\n",
       "      <td>단독</td>\n",
       "      <td>12m미만</td>\n",
       "      <td>326.88</td>\n",
       "      <td>211.6</td>\n",
       "      <td>201801</td>\n",
       "      <td>1~10</td>\n",
       "      <td>64,300</td>\n",
       "      <td>2005</td>\n",
       "      <td>율곡초교길47번길</td>\n",
       "    </tr>\n",
       "    <tr>\n",
       "      <th>4</th>\n",
       "      <td>강원도 강릉시 교동</td>\n",
       "      <td>9**</td>\n",
       "      <td>단독</td>\n",
       "      <td>8m미만</td>\n",
       "      <td>154.99</td>\n",
       "      <td>240.2</td>\n",
       "      <td>201801</td>\n",
       "      <td>11~20</td>\n",
       "      <td>19,000</td>\n",
       "      <td>1980</td>\n",
       "      <td>원대로20번길</td>\n",
       "    </tr>\n",
       "  </tbody>\n",
       "</table>\n",
       "</div>"
      ],
      "text/plain": [
       "               시군구    번지 주택유형   도로조건  연면적(㎡)  대지면적(㎡)    계약년월    계약일  \\\n",
       "0  강원도 강릉시 강동면 모전리   3**   단독   8m미만   64.20    205.0  201801  11~20   \n",
       "1      강원도 강릉시 견소동   2**   단독  12m미만   35.60     81.0  201801   1~10   \n",
       "2       강원도 강릉시 교동   9**   단독  12m미만   99.90    160.0  201801  11~20   \n",
       "3       강원도 강릉시 교동  1***   단독  12m미만  326.88    211.6  201801   1~10   \n",
       "4       강원도 강릉시 교동   9**   단독   8m미만  154.99    240.2  201801  11~20   \n",
       "\n",
       "         거래금액(만원)  건축년도        도로명  \n",
       "0          10,520  2018      강동초교길  \n",
       "1           4,000  1990        창해로  \n",
       "2          16,500  1982     원대로8번길  \n",
       "3          64,300  2005  율곡초교길47번길  \n",
       "4          19,000  1980    원대로20번길  "
      ]
     },
     "execution_count": 20,
     "metadata": {},
     "output_type": "execute_result"
    }
   ],
   "source": [
    "# 파일 불러오기\n",
    "df_raw = pd.read_excel('data/2018_raw_data.xlsx', \n",
    "                       index_col=None, header=0) \n",
    "df = df_raw.copy()\n",
    "df.head()"
   ]
  },
  {
   "cell_type": "code",
   "execution_count": 21,
   "metadata": {
    "ExecuteTime": {
     "end_time": "2022-10-18T17:12:08.471703Z",
     "start_time": "2022-10-18T17:12:08.399330Z"
    }
   },
   "outputs": [
    {
     "data": {
      "text/html": [
       "<div>\n",
       "<style scoped>\n",
       "    .dataframe tbody tr th:only-of-type {\n",
       "        vertical-align: middle;\n",
       "    }\n",
       "\n",
       "    .dataframe tbody tr th {\n",
       "        vertical-align: top;\n",
       "    }\n",
       "\n",
       "    .dataframe thead th {\n",
       "        text-align: right;\n",
       "    }\n",
       "</style>\n",
       "<table border=\"1\" class=\"dataframe\">\n",
       "  <thead>\n",
       "    <tr style=\"text-align: right;\">\n",
       "      <th></th>\n",
       "      <th>연면적(㎡)</th>\n",
       "      <th>대지면적(㎡)</th>\n",
       "      <th>계약년월</th>\n",
       "      <th>건축년도</th>\n",
       "    </tr>\n",
       "  </thead>\n",
       "  <tbody>\n",
       "    <tr>\n",
       "      <th>count</th>\n",
       "      <td>93156.000000</td>\n",
       "      <td>93156.000000</td>\n",
       "      <td>93156.000000</td>\n",
       "      <td>93156.000000</td>\n",
       "    </tr>\n",
       "    <tr>\n",
       "      <th>mean</th>\n",
       "      <td>160.954894</td>\n",
       "      <td>269.242972</td>\n",
       "      <td>201806.166763</td>\n",
       "      <td>1986.259608</td>\n",
       "    </tr>\n",
       "    <tr>\n",
       "      <th>std</th>\n",
       "      <td>153.372718</td>\n",
       "      <td>535.536227</td>\n",
       "      <td>3.306179</td>\n",
       "      <td>54.643186</td>\n",
       "    </tr>\n",
       "    <tr>\n",
       "      <th>min</th>\n",
       "      <td>4.860000</td>\n",
       "      <td>3.880000</td>\n",
       "      <td>201801.000000</td>\n",
       "      <td>0.000000</td>\n",
       "    </tr>\n",
       "    <tr>\n",
       "      <th>25%</th>\n",
       "      <td>69.410000</td>\n",
       "      <td>123.800000</td>\n",
       "      <td>201803.000000</td>\n",
       "      <td>1978.000000</td>\n",
       "    </tr>\n",
       "    <tr>\n",
       "      <th>50%</th>\n",
       "      <td>112.200000</td>\n",
       "      <td>186.100000</td>\n",
       "      <td>201806.000000</td>\n",
       "      <td>1989.000000</td>\n",
       "    </tr>\n",
       "    <tr>\n",
       "      <th>75%</th>\n",
       "      <td>191.900000</td>\n",
       "      <td>323.600000</td>\n",
       "      <td>201809.000000</td>\n",
       "      <td>2001.000000</td>\n",
       "    </tr>\n",
       "    <tr>\n",
       "      <th>max</th>\n",
       "      <td>5225.220000</td>\n",
       "      <td>119119.000000</td>\n",
       "      <td>201812.000000</td>\n",
       "      <td>2019.000000</td>\n",
       "    </tr>\n",
       "  </tbody>\n",
       "</table>\n",
       "</div>"
      ],
      "text/plain": [
       "             연면적(㎡)        대지면적(㎡)           계약년월          건축년도\n",
       "count  93156.000000   93156.000000   93156.000000  93156.000000\n",
       "mean     160.954894     269.242972  201806.166763   1986.259608\n",
       "std      153.372718     535.536227       3.306179     54.643186\n",
       "min        4.860000       3.880000  201801.000000      0.000000\n",
       "25%       69.410000     123.800000  201803.000000   1978.000000\n",
       "50%      112.200000     186.100000  201806.000000   1989.000000\n",
       "75%      191.900000     323.600000  201809.000000   2001.000000\n",
       "max     5225.220000  119119.000000  201812.000000   2019.000000"
      ]
     },
     "execution_count": 21,
     "metadata": {},
     "output_type": "execute_result"
    }
   ],
   "source": [
    "df.describe() # summary of the numerical attributes"
   ]
  },
  {
   "cell_type": "code",
   "execution_count": 22,
   "metadata": {
    "ExecuteTime": {
     "end_time": "2022-10-18T17:12:08.487593Z",
     "start_time": "2022-10-18T17:12:08.475626Z"
    }
   },
   "outputs": [
    {
     "data": {
      "text/plain": [
       "시군구          object\n",
       "번지           object\n",
       "주택유형         object\n",
       "도로조건         object\n",
       "연면적(㎡)      float64\n",
       "대지면적(㎡)     float64\n",
       "계약년월          int64\n",
       "계약일          object\n",
       "거래금액(만원)     object\n",
       "건축년도          int64\n",
       "도로명          object\n",
       "dtype: object"
      ]
     },
     "execution_count": 22,
     "metadata": {},
     "output_type": "execute_result"
    }
   ],
   "source": [
    "df.dtypes"
   ]
  },
  {
   "cell_type": "markdown",
   "metadata": {},
   "source": [
    "연면적: 하나의 건축물 각 층의 바닥면적의 합계"
   ]
  },
  {
   "cell_type": "markdown",
   "metadata": {},
   "source": [
    "대지면적: 대지의 수평투영면적"
   ]
  },
  {
   "cell_type": "markdown",
   "metadata": {},
   "source": [
    "### Data 정리"
   ]
  },
  {
   "cell_type": "code",
   "execution_count": 23,
   "metadata": {
    "ExecuteTime": {
     "end_time": "2022-10-18T17:12:21.020296Z",
     "start_time": "2022-10-18T17:12:20.849136Z"
    }
   },
   "outputs": [
    {
     "data": {
      "text/html": [
       "<div>\n",
       "<style scoped>\n",
       "    .dataframe tbody tr th:only-of-type {\n",
       "        vertical-align: middle;\n",
       "    }\n",
       "\n",
       "    .dataframe tbody tr th {\n",
       "        vertical-align: top;\n",
       "    }\n",
       "\n",
       "    .dataframe thead th {\n",
       "        text-align: right;\n",
       "    }\n",
       "</style>\n",
       "<table border=\"1\" class=\"dataframe\">\n",
       "  <thead>\n",
       "    <tr style=\"text-align: right;\">\n",
       "      <th></th>\n",
       "      <th>시군구</th>\n",
       "      <th>번지</th>\n",
       "      <th>주택유형</th>\n",
       "      <th>도로조건</th>\n",
       "      <th>연면적(㎡)</th>\n",
       "      <th>대지면적(㎡)</th>\n",
       "      <th>계약년월</th>\n",
       "      <th>계약일</th>\n",
       "      <th>거래금액(만원)</th>\n",
       "      <th>건축년도</th>\n",
       "      <th>도로명</th>\n",
       "    </tr>\n",
       "  </thead>\n",
       "  <tbody>\n",
       "    <tr>\n",
       "      <th>0</th>\n",
       "      <td>강원도 강릉시 강동면 모전리</td>\n",
       "      <td>3**</td>\n",
       "      <td>단독</td>\n",
       "      <td>8m미만</td>\n",
       "      <td>64.20</td>\n",
       "      <td>205.0</td>\n",
       "      <td>201801</td>\n",
       "      <td>11~20</td>\n",
       "      <td>10520.0</td>\n",
       "      <td>2018</td>\n",
       "      <td>강동초교길</td>\n",
       "    </tr>\n",
       "    <tr>\n",
       "      <th>1</th>\n",
       "      <td>강원도 강릉시 견소동</td>\n",
       "      <td>2**</td>\n",
       "      <td>단독</td>\n",
       "      <td>12m미만</td>\n",
       "      <td>35.60</td>\n",
       "      <td>81.0</td>\n",
       "      <td>201801</td>\n",
       "      <td>1~10</td>\n",
       "      <td>4000.0</td>\n",
       "      <td>1990</td>\n",
       "      <td>창해로</td>\n",
       "    </tr>\n",
       "    <tr>\n",
       "      <th>2</th>\n",
       "      <td>강원도 강릉시 교동</td>\n",
       "      <td>9**</td>\n",
       "      <td>단독</td>\n",
       "      <td>12m미만</td>\n",
       "      <td>99.90</td>\n",
       "      <td>160.0</td>\n",
       "      <td>201801</td>\n",
       "      <td>11~20</td>\n",
       "      <td>16500.0</td>\n",
       "      <td>1982</td>\n",
       "      <td>원대로8번길</td>\n",
       "    </tr>\n",
       "    <tr>\n",
       "      <th>3</th>\n",
       "      <td>강원도 강릉시 교동</td>\n",
       "      <td>1***</td>\n",
       "      <td>단독</td>\n",
       "      <td>12m미만</td>\n",
       "      <td>326.88</td>\n",
       "      <td>211.6</td>\n",
       "      <td>201801</td>\n",
       "      <td>1~10</td>\n",
       "      <td>64300.0</td>\n",
       "      <td>2005</td>\n",
       "      <td>율곡초교길47번길</td>\n",
       "    </tr>\n",
       "    <tr>\n",
       "      <th>4</th>\n",
       "      <td>강원도 강릉시 교동</td>\n",
       "      <td>9**</td>\n",
       "      <td>단독</td>\n",
       "      <td>8m미만</td>\n",
       "      <td>154.99</td>\n",
       "      <td>240.2</td>\n",
       "      <td>201801</td>\n",
       "      <td>11~20</td>\n",
       "      <td>19000.0</td>\n",
       "      <td>1980</td>\n",
       "      <td>원대로20번길</td>\n",
       "    </tr>\n",
       "    <tr>\n",
       "      <th>5</th>\n",
       "      <td>강원도 강릉시 구정면 구정리</td>\n",
       "      <td>*</td>\n",
       "      <td>단독</td>\n",
       "      <td>8m미만</td>\n",
       "      <td>106.26</td>\n",
       "      <td>530.0</td>\n",
       "      <td>201801</td>\n",
       "      <td>21~31</td>\n",
       "      <td>21000.0</td>\n",
       "      <td>2017</td>\n",
       "      <td>청파로</td>\n",
       "    </tr>\n",
       "    <tr>\n",
       "      <th>6</th>\n",
       "      <td>강원도 강릉시 구정면 덕현리</td>\n",
       "      <td>3**</td>\n",
       "      <td>단독</td>\n",
       "      <td>8m미만</td>\n",
       "      <td>69.03</td>\n",
       "      <td>407.0</td>\n",
       "      <td>201801</td>\n",
       "      <td>1~10</td>\n",
       "      <td>6450.0</td>\n",
       "      <td>1990</td>\n",
       "      <td>누일길</td>\n",
       "    </tr>\n",
       "    <tr>\n",
       "      <th>7</th>\n",
       "      <td>강원도 강릉시 구정면 덕현리</td>\n",
       "      <td>3**</td>\n",
       "      <td>단독</td>\n",
       "      <td>8m미만</td>\n",
       "      <td>61.60</td>\n",
       "      <td>426.0</td>\n",
       "      <td>201801</td>\n",
       "      <td>1~10</td>\n",
       "      <td>6700.0</td>\n",
       "      <td>1990</td>\n",
       "      <td>누일길</td>\n",
       "    </tr>\n",
       "    <tr>\n",
       "      <th>8</th>\n",
       "      <td>강원도 강릉시 내곡동</td>\n",
       "      <td>1**</td>\n",
       "      <td>단독</td>\n",
       "      <td>8m미만</td>\n",
       "      <td>79.68</td>\n",
       "      <td>194.0</td>\n",
       "      <td>201801</td>\n",
       "      <td>21~31</td>\n",
       "      <td>20500.0</td>\n",
       "      <td>2015</td>\n",
       "      <td>남산초교길12번길</td>\n",
       "    </tr>\n",
       "    <tr>\n",
       "      <th>9</th>\n",
       "      <td>강원도 강릉시 내곡동</td>\n",
       "      <td>4*</td>\n",
       "      <td>단독</td>\n",
       "      <td>25m미만</td>\n",
       "      <td>36.30</td>\n",
       "      <td>214.0</td>\n",
       "      <td>201801</td>\n",
       "      <td>21~31</td>\n",
       "      <td>15850.0</td>\n",
       "      <td>1971</td>\n",
       "      <td>강변로</td>\n",
       "    </tr>\n",
       "  </tbody>\n",
       "</table>\n",
       "</div>"
      ],
      "text/plain": [
       "               시군구    번지 주택유형   도로조건  연면적(㎡)  대지면적(㎡)    계약년월    계약일  \\\n",
       "0  강원도 강릉시 강동면 모전리   3**   단독   8m미만   64.20    205.0  201801  11~20   \n",
       "1      강원도 강릉시 견소동   2**   단독  12m미만   35.60     81.0  201801   1~10   \n",
       "2       강원도 강릉시 교동   9**   단독  12m미만   99.90    160.0  201801  11~20   \n",
       "3       강원도 강릉시 교동  1***   단독  12m미만  326.88    211.6  201801   1~10   \n",
       "4       강원도 강릉시 교동   9**   단독   8m미만  154.99    240.2  201801  11~20   \n",
       "5  강원도 강릉시 구정면 구정리     *   단독   8m미만  106.26    530.0  201801  21~31   \n",
       "6  강원도 강릉시 구정면 덕현리   3**   단독   8m미만   69.03    407.0  201801   1~10   \n",
       "7  강원도 강릉시 구정면 덕현리   3**   단독   8m미만   61.60    426.0  201801   1~10   \n",
       "8      강원도 강릉시 내곡동   1**   단독   8m미만   79.68    194.0  201801  21~31   \n",
       "9      강원도 강릉시 내곡동    4*   단독  25m미만   36.30    214.0  201801  21~31   \n",
       "\n",
       "   거래금액(만원)  건축년도        도로명  \n",
       "0   10520.0  2018      강동초교길  \n",
       "1    4000.0  1990        창해로  \n",
       "2   16500.0  1982     원대로8번길  \n",
       "3   64300.0  2005  율곡초교길47번길  \n",
       "4   19000.0  1980    원대로20번길  \n",
       "5   21000.0  2017        청파로  \n",
       "6    6450.0  1990        누일길  \n",
       "7    6700.0  1990        누일길  \n",
       "8   20500.0  2015  남산초교길12번길  \n",
       "9   15850.0  1971        강변로  "
      ]
     },
     "execution_count": 23,
     "metadata": {},
     "output_type": "execute_result"
    }
   ],
   "source": [
    "df['거래금액(만원)'] = df['거래금액(만원)'].str.replace(',', '').astype(float)\n",
    "df.head(10)"
   ]
  },
  {
   "cell_type": "code",
   "execution_count": 26,
   "metadata": {
    "ExecuteTime": {
     "end_time": "2022-10-18T17:13:32.772650Z",
     "start_time": "2022-10-18T17:13:32.737743Z"
    }
   },
   "outputs": [
    {
     "ename": "AttributeError",
     "evalue": "Can only use .str accessor with string values!",
     "output_type": "error",
     "traceback": [
      "\u001b[1;31m---------------------------------------------------------------------------\u001b[0m",
      "\u001b[1;31mAttributeError\u001b[0m                            Traceback (most recent call last)",
      "\u001b[1;32m<ipython-input-26-b665099b2867>\u001b[0m in \u001b[0;36m<module>\u001b[1;34m\u001b[0m\n\u001b[1;32m----> 1\u001b[1;33m \u001b[0mdf\u001b[0m\u001b[1;33m[\u001b[0m\u001b[1;34m'거래금액(만원)'\u001b[0m\u001b[1;33m]\u001b[0m \u001b[1;33m=\u001b[0m \u001b[0mdf\u001b[0m\u001b[1;33m[\u001b[0m\u001b[1;34m'거래금액(만원)'\u001b[0m\u001b[1;33m]\u001b[0m\u001b[1;33m.\u001b[0m\u001b[0mstr\u001b[0m\u001b[1;33m.\u001b[0m\u001b[0mreplace\u001b[0m\u001b[1;33m(\u001b[0m\u001b[1;34m','\u001b[0m\u001b[1;33m,\u001b[0m \u001b[1;34m''\u001b[0m\u001b[1;33m)\u001b[0m\u001b[1;33m.\u001b[0m\u001b[0mastype\u001b[0m\u001b[1;33m(\u001b[0m\u001b[1;34m\"float64\"\u001b[0m\u001b[1;33m)\u001b[0m\u001b[1;33m\u001b[0m\u001b[1;33m\u001b[0m\u001b[0m\n\u001b[0m\u001b[0;32m      2\u001b[0m \u001b[0mdf\u001b[0m\u001b[1;33m.\u001b[0m\u001b[0mhead\u001b[0m\u001b[1;33m(\u001b[0m\u001b[1;36m10\u001b[0m\u001b[1;33m)\u001b[0m\u001b[1;33m\u001b[0m\u001b[1;33m\u001b[0m\u001b[0m\n",
      "\u001b[1;32mC:\\ProgramData\\Anaconda3\\lib\\site-packages\\pandas\\core\\generic.py\u001b[0m in \u001b[0;36m__getattr__\u001b[1;34m(self, name)\u001b[0m\n\u001b[0;32m   5133\u001b[0m             \u001b[1;32mor\u001b[0m \u001b[0mname\u001b[0m \u001b[1;32min\u001b[0m \u001b[0mself\u001b[0m\u001b[1;33m.\u001b[0m\u001b[0m_accessors\u001b[0m\u001b[1;33m\u001b[0m\u001b[1;33m\u001b[0m\u001b[0m\n\u001b[0;32m   5134\u001b[0m         ):\n\u001b[1;32m-> 5135\u001b[1;33m             \u001b[1;32mreturn\u001b[0m \u001b[0mobject\u001b[0m\u001b[1;33m.\u001b[0m\u001b[0m__getattribute__\u001b[0m\u001b[1;33m(\u001b[0m\u001b[0mself\u001b[0m\u001b[1;33m,\u001b[0m \u001b[0mname\u001b[0m\u001b[1;33m)\u001b[0m\u001b[1;33m\u001b[0m\u001b[1;33m\u001b[0m\u001b[0m\n\u001b[0m\u001b[0;32m   5136\u001b[0m         \u001b[1;32melse\u001b[0m\u001b[1;33m:\u001b[0m\u001b[1;33m\u001b[0m\u001b[1;33m\u001b[0m\u001b[0m\n\u001b[0;32m   5137\u001b[0m             \u001b[1;32mif\u001b[0m \u001b[0mself\u001b[0m\u001b[1;33m.\u001b[0m\u001b[0m_info_axis\u001b[0m\u001b[1;33m.\u001b[0m\u001b[0m_can_hold_identifiers_and_holds_name\u001b[0m\u001b[1;33m(\u001b[0m\u001b[0mname\u001b[0m\u001b[1;33m)\u001b[0m\u001b[1;33m:\u001b[0m\u001b[1;33m\u001b[0m\u001b[1;33m\u001b[0m\u001b[0m\n",
      "\u001b[1;32mC:\\ProgramData\\Anaconda3\\lib\\site-packages\\pandas\\core\\accessor.py\u001b[0m in \u001b[0;36m__get__\u001b[1;34m(self, obj, cls)\u001b[0m\n\u001b[0;32m    185\u001b[0m             \u001b[1;31m# we're accessing the attribute of the class, i.e., Dataset.geo\u001b[0m\u001b[1;33m\u001b[0m\u001b[1;33m\u001b[0m\u001b[1;33m\u001b[0m\u001b[0m\n\u001b[0;32m    186\u001b[0m             \u001b[1;32mreturn\u001b[0m \u001b[0mself\u001b[0m\u001b[1;33m.\u001b[0m\u001b[0m_accessor\u001b[0m\u001b[1;33m\u001b[0m\u001b[1;33m\u001b[0m\u001b[0m\n\u001b[1;32m--> 187\u001b[1;33m         \u001b[0maccessor_obj\u001b[0m \u001b[1;33m=\u001b[0m \u001b[0mself\u001b[0m\u001b[1;33m.\u001b[0m\u001b[0m_accessor\u001b[0m\u001b[1;33m(\u001b[0m\u001b[0mobj\u001b[0m\u001b[1;33m)\u001b[0m\u001b[1;33m\u001b[0m\u001b[1;33m\u001b[0m\u001b[0m\n\u001b[0m\u001b[0;32m    188\u001b[0m         \u001b[1;31m# Replace the property with the accessor object. Inspired by:\u001b[0m\u001b[1;33m\u001b[0m\u001b[1;33m\u001b[0m\u001b[1;33m\u001b[0m\u001b[0m\n\u001b[0;32m    189\u001b[0m         \u001b[1;31m# https://www.pydanny.com/cached-property.html\u001b[0m\u001b[1;33m\u001b[0m\u001b[1;33m\u001b[0m\u001b[1;33m\u001b[0m\u001b[0m\n",
      "\u001b[1;32mC:\\ProgramData\\Anaconda3\\lib\\site-packages\\pandas\\core\\strings.py\u001b[0m in \u001b[0;36m__init__\u001b[1;34m(self, data)\u001b[0m\n\u001b[0;32m   2098\u001b[0m \u001b[1;33m\u001b[0m\u001b[0m\n\u001b[0;32m   2099\u001b[0m     \u001b[1;32mdef\u001b[0m \u001b[0m__init__\u001b[0m\u001b[1;33m(\u001b[0m\u001b[0mself\u001b[0m\u001b[1;33m,\u001b[0m \u001b[0mdata\u001b[0m\u001b[1;33m)\u001b[0m\u001b[1;33m:\u001b[0m\u001b[1;33m\u001b[0m\u001b[1;33m\u001b[0m\u001b[0m\n\u001b[1;32m-> 2100\u001b[1;33m         \u001b[0mself\u001b[0m\u001b[1;33m.\u001b[0m\u001b[0m_inferred_dtype\u001b[0m \u001b[1;33m=\u001b[0m \u001b[0mself\u001b[0m\u001b[1;33m.\u001b[0m\u001b[0m_validate\u001b[0m\u001b[1;33m(\u001b[0m\u001b[0mdata\u001b[0m\u001b[1;33m)\u001b[0m\u001b[1;33m\u001b[0m\u001b[1;33m\u001b[0m\u001b[0m\n\u001b[0m\u001b[0;32m   2101\u001b[0m         \u001b[0mself\u001b[0m\u001b[1;33m.\u001b[0m\u001b[0m_is_categorical\u001b[0m \u001b[1;33m=\u001b[0m \u001b[0mis_categorical_dtype\u001b[0m\u001b[1;33m(\u001b[0m\u001b[0mdata\u001b[0m\u001b[1;33m.\u001b[0m\u001b[0mdtype\u001b[0m\u001b[1;33m)\u001b[0m\u001b[1;33m\u001b[0m\u001b[1;33m\u001b[0m\u001b[0m\n\u001b[0;32m   2102\u001b[0m         \u001b[0mself\u001b[0m\u001b[1;33m.\u001b[0m\u001b[0m_is_string\u001b[0m \u001b[1;33m=\u001b[0m \u001b[0mdata\u001b[0m\u001b[1;33m.\u001b[0m\u001b[0mdtype\u001b[0m\u001b[1;33m.\u001b[0m\u001b[0mname\u001b[0m \u001b[1;33m==\u001b[0m \u001b[1;34m\"string\"\u001b[0m\u001b[1;33m\u001b[0m\u001b[1;33m\u001b[0m\u001b[0m\n",
      "\u001b[1;32mC:\\ProgramData\\Anaconda3\\lib\\site-packages\\pandas\\core\\strings.py\u001b[0m in \u001b[0;36m_validate\u001b[1;34m(data)\u001b[0m\n\u001b[0;32m   2155\u001b[0m \u001b[1;33m\u001b[0m\u001b[0m\n\u001b[0;32m   2156\u001b[0m         \u001b[1;32mif\u001b[0m \u001b[0minferred_dtype\u001b[0m \u001b[1;32mnot\u001b[0m \u001b[1;32min\u001b[0m \u001b[0mallowed_types\u001b[0m\u001b[1;33m:\u001b[0m\u001b[1;33m\u001b[0m\u001b[1;33m\u001b[0m\u001b[0m\n\u001b[1;32m-> 2157\u001b[1;33m             \u001b[1;32mraise\u001b[0m \u001b[0mAttributeError\u001b[0m\u001b[1;33m(\u001b[0m\u001b[1;34m\"Can only use .str accessor with string values!\"\u001b[0m\u001b[1;33m)\u001b[0m\u001b[1;33m\u001b[0m\u001b[1;33m\u001b[0m\u001b[0m\n\u001b[0m\u001b[0;32m   2158\u001b[0m         \u001b[1;32mreturn\u001b[0m \u001b[0minferred_dtype\u001b[0m\u001b[1;33m\u001b[0m\u001b[1;33m\u001b[0m\u001b[0m\n\u001b[0;32m   2159\u001b[0m \u001b[1;33m\u001b[0m\u001b[0m\n",
      "\u001b[1;31mAttributeError\u001b[0m: Can only use .str accessor with string values!"
     ]
    }
   ],
   "source": [
    "df['거래금액(만원)'] = df['거래금액(만원)'].str.replace(',', '').astype(float64)\n",
    "df.head(10)"
   ]
  },
  {
   "cell_type": "code",
   "execution_count": 27,
   "metadata": {
    "ExecuteTime": {
     "end_time": "2022-10-18T17:13:44.813047Z",
     "start_time": "2022-10-18T17:13:44.783127Z"
    }
   },
   "outputs": [
    {
     "data": {
      "text/plain": [
       "array(['8m미만', '12m미만', '25m미만', '-', '25m이상'], dtype=object)"
      ]
     },
     "execution_count": 27,
     "metadata": {},
     "output_type": "execute_result"
    }
   ],
   "source": [
    "df['도로조건'].unique()"
   ]
  },
  {
   "cell_type": "code",
   "execution_count": 28,
   "metadata": {
    "ExecuteTime": {
     "end_time": "2022-10-18T17:13:47.083394Z",
     "start_time": "2022-10-18T17:13:45.611613Z"
    }
   },
   "outputs": [
    {
     "data": {
      "text/plain": [
       "array([ 8., 12., 25.,  0., 26.])"
      ]
     },
     "execution_count": 28,
     "metadata": {},
     "output_type": "execute_result"
    }
   ],
   "source": [
    "df['도로조건'] = df['도로조건'].replace(['-','m미만','25m이상'], \n",
    "                                ['0','','26'], regex=True).astype(float)\n",
    "df['도로조건'].unique()\n",
    "# df['도로조건'] = df['도로조건'].replace(\"m미만\",\"\")"
   ]
  },
  {
   "cell_type": "code",
   "execution_count": 29,
   "metadata": {
    "ExecuteTime": {
     "end_time": "2022-10-18T17:13:47.128274Z",
     "start_time": "2022-10-18T17:13:47.088512Z"
    }
   },
   "outputs": [
    {
     "data": {
      "text/html": [
       "<div>\n",
       "<style scoped>\n",
       "    .dataframe tbody tr th:only-of-type {\n",
       "        vertical-align: middle;\n",
       "    }\n",
       "\n",
       "    .dataframe tbody tr th {\n",
       "        vertical-align: top;\n",
       "    }\n",
       "\n",
       "    .dataframe thead th {\n",
       "        text-align: right;\n",
       "    }\n",
       "</style>\n",
       "<table border=\"1\" class=\"dataframe\">\n",
       "  <thead>\n",
       "    <tr style=\"text-align: right;\">\n",
       "      <th></th>\n",
       "      <th>시군구</th>\n",
       "      <th>번지</th>\n",
       "      <th>주택유형</th>\n",
       "      <th>도로조건</th>\n",
       "      <th>연면적(㎡)</th>\n",
       "      <th>대지면적(㎡)</th>\n",
       "      <th>계약년월</th>\n",
       "      <th>계약일</th>\n",
       "      <th>거래금액(만원)</th>\n",
       "      <th>건축년도</th>\n",
       "      <th>도로명</th>\n",
       "    </tr>\n",
       "  </thead>\n",
       "  <tbody>\n",
       "    <tr>\n",
       "      <th>0</th>\n",
       "      <td>강원도 강릉시 강동면 모전리</td>\n",
       "      <td>3**</td>\n",
       "      <td>단독</td>\n",
       "      <td>8.0</td>\n",
       "      <td>64.20</td>\n",
       "      <td>205.0</td>\n",
       "      <td>201801</td>\n",
       "      <td>11~20</td>\n",
       "      <td>10520.0</td>\n",
       "      <td>2018</td>\n",
       "      <td>강동초교길</td>\n",
       "    </tr>\n",
       "    <tr>\n",
       "      <th>1</th>\n",
       "      <td>강원도 강릉시 견소동</td>\n",
       "      <td>2**</td>\n",
       "      <td>단독</td>\n",
       "      <td>12.0</td>\n",
       "      <td>35.60</td>\n",
       "      <td>81.0</td>\n",
       "      <td>201801</td>\n",
       "      <td>1~10</td>\n",
       "      <td>4000.0</td>\n",
       "      <td>1990</td>\n",
       "      <td>창해로</td>\n",
       "    </tr>\n",
       "    <tr>\n",
       "      <th>2</th>\n",
       "      <td>강원도 강릉시 교동</td>\n",
       "      <td>9**</td>\n",
       "      <td>단독</td>\n",
       "      <td>12.0</td>\n",
       "      <td>99.90</td>\n",
       "      <td>160.0</td>\n",
       "      <td>201801</td>\n",
       "      <td>11~20</td>\n",
       "      <td>16500.0</td>\n",
       "      <td>1982</td>\n",
       "      <td>원대로8번길</td>\n",
       "    </tr>\n",
       "    <tr>\n",
       "      <th>3</th>\n",
       "      <td>강원도 강릉시 교동</td>\n",
       "      <td>1***</td>\n",
       "      <td>단독</td>\n",
       "      <td>12.0</td>\n",
       "      <td>326.88</td>\n",
       "      <td>211.6</td>\n",
       "      <td>201801</td>\n",
       "      <td>1~10</td>\n",
       "      <td>64300.0</td>\n",
       "      <td>2005</td>\n",
       "      <td>율곡초교길47번길</td>\n",
       "    </tr>\n",
       "    <tr>\n",
       "      <th>4</th>\n",
       "      <td>강원도 강릉시 교동</td>\n",
       "      <td>9**</td>\n",
       "      <td>단독</td>\n",
       "      <td>8.0</td>\n",
       "      <td>154.99</td>\n",
       "      <td>240.2</td>\n",
       "      <td>201801</td>\n",
       "      <td>11~20</td>\n",
       "      <td>19000.0</td>\n",
       "      <td>1980</td>\n",
       "      <td>원대로20번길</td>\n",
       "    </tr>\n",
       "    <tr>\n",
       "      <th>5</th>\n",
       "      <td>강원도 강릉시 구정면 구정리</td>\n",
       "      <td>*</td>\n",
       "      <td>단독</td>\n",
       "      <td>8.0</td>\n",
       "      <td>106.26</td>\n",
       "      <td>530.0</td>\n",
       "      <td>201801</td>\n",
       "      <td>21~31</td>\n",
       "      <td>21000.0</td>\n",
       "      <td>2017</td>\n",
       "      <td>청파로</td>\n",
       "    </tr>\n",
       "    <tr>\n",
       "      <th>6</th>\n",
       "      <td>강원도 강릉시 구정면 덕현리</td>\n",
       "      <td>3**</td>\n",
       "      <td>단독</td>\n",
       "      <td>8.0</td>\n",
       "      <td>69.03</td>\n",
       "      <td>407.0</td>\n",
       "      <td>201801</td>\n",
       "      <td>1~10</td>\n",
       "      <td>6450.0</td>\n",
       "      <td>1990</td>\n",
       "      <td>누일길</td>\n",
       "    </tr>\n",
       "    <tr>\n",
       "      <th>7</th>\n",
       "      <td>강원도 강릉시 구정면 덕현리</td>\n",
       "      <td>3**</td>\n",
       "      <td>단독</td>\n",
       "      <td>8.0</td>\n",
       "      <td>61.60</td>\n",
       "      <td>426.0</td>\n",
       "      <td>201801</td>\n",
       "      <td>1~10</td>\n",
       "      <td>6700.0</td>\n",
       "      <td>1990</td>\n",
       "      <td>누일길</td>\n",
       "    </tr>\n",
       "    <tr>\n",
       "      <th>8</th>\n",
       "      <td>강원도 강릉시 내곡동</td>\n",
       "      <td>1**</td>\n",
       "      <td>단독</td>\n",
       "      <td>8.0</td>\n",
       "      <td>79.68</td>\n",
       "      <td>194.0</td>\n",
       "      <td>201801</td>\n",
       "      <td>21~31</td>\n",
       "      <td>20500.0</td>\n",
       "      <td>2015</td>\n",
       "      <td>남산초교길12번길</td>\n",
       "    </tr>\n",
       "    <tr>\n",
       "      <th>9</th>\n",
       "      <td>강원도 강릉시 내곡동</td>\n",
       "      <td>4*</td>\n",
       "      <td>단독</td>\n",
       "      <td>25.0</td>\n",
       "      <td>36.30</td>\n",
       "      <td>214.0</td>\n",
       "      <td>201801</td>\n",
       "      <td>21~31</td>\n",
       "      <td>15850.0</td>\n",
       "      <td>1971</td>\n",
       "      <td>강변로</td>\n",
       "    </tr>\n",
       "  </tbody>\n",
       "</table>\n",
       "</div>"
      ],
      "text/plain": [
       "               시군구    번지 주택유형  도로조건  연면적(㎡)  대지면적(㎡)    계약년월    계약일  거래금액(만원)  \\\n",
       "0  강원도 강릉시 강동면 모전리   3**   단독   8.0   64.20    205.0  201801  11~20   10520.0   \n",
       "1      강원도 강릉시 견소동   2**   단독  12.0   35.60     81.0  201801   1~10    4000.0   \n",
       "2       강원도 강릉시 교동   9**   단독  12.0   99.90    160.0  201801  11~20   16500.0   \n",
       "3       강원도 강릉시 교동  1***   단독  12.0  326.88    211.6  201801   1~10   64300.0   \n",
       "4       강원도 강릉시 교동   9**   단독   8.0  154.99    240.2  201801  11~20   19000.0   \n",
       "5  강원도 강릉시 구정면 구정리     *   단독   8.0  106.26    530.0  201801  21~31   21000.0   \n",
       "6  강원도 강릉시 구정면 덕현리   3**   단독   8.0   69.03    407.0  201801   1~10    6450.0   \n",
       "7  강원도 강릉시 구정면 덕현리   3**   단독   8.0   61.60    426.0  201801   1~10    6700.0   \n",
       "8      강원도 강릉시 내곡동   1**   단독   8.0   79.68    194.0  201801  21~31   20500.0   \n",
       "9      강원도 강릉시 내곡동    4*   단독  25.0   36.30    214.0  201801  21~31   15850.0   \n",
       "\n",
       "   건축년도        도로명  \n",
       "0  2018      강동초교길  \n",
       "1  1990        창해로  \n",
       "2  1982     원대로8번길  \n",
       "3  2005  율곡초교길47번길  \n",
       "4  1980    원대로20번길  \n",
       "5  2017        청파로  \n",
       "6  1990        누일길  \n",
       "7  1990        누일길  \n",
       "8  2015  남산초교길12번길  \n",
       "9  1971        강변로  "
      ]
     },
     "execution_count": 29,
     "metadata": {},
     "output_type": "execute_result"
    }
   ],
   "source": [
    "df.head(10)"
   ]
  },
  {
   "cell_type": "code",
   "execution_count": 31,
   "metadata": {
    "ExecuteTime": {
     "end_time": "2022-10-18T17:13:51.073827Z",
     "start_time": "2022-10-18T17:13:50.771213Z"
    }
   },
   "outputs": [
    {
     "ename": "KeyError",
     "evalue": "'계약년월'",
     "output_type": "error",
     "traceback": [
      "\u001b[1;31m---------------------------------------------------------------------------\u001b[0m",
      "\u001b[1;31mKeyError\u001b[0m                                  Traceback (most recent call last)",
      "\u001b[1;32mC:\\ProgramData\\Anaconda3\\lib\\site-packages\\pandas\\core\\indexes\\base.py\u001b[0m in \u001b[0;36mget_loc\u001b[1;34m(self, key, method, tolerance)\u001b[0m\n\u001b[0;32m   2894\u001b[0m             \u001b[1;32mtry\u001b[0m\u001b[1;33m:\u001b[0m\u001b[1;33m\u001b[0m\u001b[1;33m\u001b[0m\u001b[0m\n\u001b[1;32m-> 2895\u001b[1;33m                 \u001b[1;32mreturn\u001b[0m \u001b[0mself\u001b[0m\u001b[1;33m.\u001b[0m\u001b[0m_engine\u001b[0m\u001b[1;33m.\u001b[0m\u001b[0mget_loc\u001b[0m\u001b[1;33m(\u001b[0m\u001b[0mcasted_key\u001b[0m\u001b[1;33m)\u001b[0m\u001b[1;33m\u001b[0m\u001b[1;33m\u001b[0m\u001b[0m\n\u001b[0m\u001b[0;32m   2896\u001b[0m             \u001b[1;32mexcept\u001b[0m \u001b[0mKeyError\u001b[0m \u001b[1;32mas\u001b[0m \u001b[0merr\u001b[0m\u001b[1;33m:\u001b[0m\u001b[1;33m\u001b[0m\u001b[1;33m\u001b[0m\u001b[0m\n",
      "\u001b[1;32mpandas\\_libs\\index.pyx\u001b[0m in \u001b[0;36mpandas._libs.index.IndexEngine.get_loc\u001b[1;34m()\u001b[0m\n",
      "\u001b[1;32mpandas\\_libs\\index.pyx\u001b[0m in \u001b[0;36mpandas._libs.index.IndexEngine.get_loc\u001b[1;34m()\u001b[0m\n",
      "\u001b[1;32mpandas\\_libs\\hashtable_class_helper.pxi\u001b[0m in \u001b[0;36mpandas._libs.hashtable.PyObjectHashTable.get_item\u001b[1;34m()\u001b[0m\n",
      "\u001b[1;32mpandas\\_libs\\hashtable_class_helper.pxi\u001b[0m in \u001b[0;36mpandas._libs.hashtable.PyObjectHashTable.get_item\u001b[1;34m()\u001b[0m\n",
      "\u001b[1;31mKeyError\u001b[0m: '계약년월'",
      "\nThe above exception was the direct cause of the following exception:\n",
      "\u001b[1;31mKeyError\u001b[0m                                  Traceback (most recent call last)",
      "\u001b[1;32m<ipython-input-31-f0b83aaf38b7>\u001b[0m in \u001b[0;36m<module>\u001b[1;34m\u001b[0m\n\u001b[1;32m----> 1\u001b[1;33m \u001b[0ms\u001b[0m \u001b[1;33m=\u001b[0m \u001b[0mdf\u001b[0m\u001b[1;33m[\u001b[0m\u001b[1;34m'계약년월'\u001b[0m\u001b[1;33m]\u001b[0m\u001b[1;33m.\u001b[0m\u001b[0mastype\u001b[0m\u001b[1;33m(\u001b[0m\u001b[0mstr\u001b[0m\u001b[1;33m)\u001b[0m\u001b[1;33m\u001b[0m\u001b[1;33m\u001b[0m\u001b[0m\n\u001b[0m\u001b[0;32m      2\u001b[0m \u001b[0mdf\u001b[0m\u001b[1;33m[\u001b[0m\u001b[1;34m'연도'\u001b[0m\u001b[1;33m]\u001b[0m \u001b[1;33m=\u001b[0m \u001b[0ms\u001b[0m\u001b[1;33m.\u001b[0m\u001b[0mstr\u001b[0m\u001b[1;33m[\u001b[0m\u001b[1;36m0\u001b[0m\u001b[1;33m:\u001b[0m\u001b[1;36m4\u001b[0m\u001b[1;33m]\u001b[0m\u001b[1;33m.\u001b[0m\u001b[0mastype\u001b[0m\u001b[1;33m(\u001b[0m\u001b[0mint\u001b[0m\u001b[1;33m)\u001b[0m\u001b[1;33m\u001b[0m\u001b[1;33m\u001b[0m\u001b[0m\n\u001b[0;32m      3\u001b[0m \u001b[0mdf\u001b[0m\u001b[1;33m[\u001b[0m\u001b[1;34m'월'\u001b[0m\u001b[1;33m]\u001b[0m \u001b[1;33m=\u001b[0m \u001b[0ms\u001b[0m\u001b[1;33m.\u001b[0m\u001b[0mstr\u001b[0m\u001b[1;33m[\u001b[0m\u001b[1;33m-\u001b[0m\u001b[1;36m2\u001b[0m\u001b[1;33m:\u001b[0m\u001b[1;33m]\u001b[0m\u001b[1;33m.\u001b[0m\u001b[0mastype\u001b[0m\u001b[1;33m(\u001b[0m\u001b[0mint\u001b[0m\u001b[1;33m)\u001b[0m\u001b[1;33m\u001b[0m\u001b[1;33m\u001b[0m\u001b[0m\n\u001b[0;32m      4\u001b[0m \u001b[1;32mdel\u001b[0m \u001b[0mdf\u001b[0m\u001b[1;33m[\u001b[0m\u001b[1;34m'계약년월'\u001b[0m\u001b[1;33m]\u001b[0m\u001b[1;33m\u001b[0m\u001b[1;33m\u001b[0m\u001b[0m\n\u001b[0;32m      5\u001b[0m \u001b[0mdf\u001b[0m\u001b[1;33m.\u001b[0m\u001b[0mhead\u001b[0m\u001b[1;33m(\u001b[0m\u001b[1;33m)\u001b[0m\u001b[1;33m\u001b[0m\u001b[1;33m\u001b[0m\u001b[0m\n",
      "\u001b[1;32mC:\\ProgramData\\Anaconda3\\lib\\site-packages\\pandas\\core\\frame.py\u001b[0m in \u001b[0;36m__getitem__\u001b[1;34m(self, key)\u001b[0m\n\u001b[0;32m   2900\u001b[0m             \u001b[1;32mif\u001b[0m \u001b[0mself\u001b[0m\u001b[1;33m.\u001b[0m\u001b[0mcolumns\u001b[0m\u001b[1;33m.\u001b[0m\u001b[0mnlevels\u001b[0m \u001b[1;33m>\u001b[0m \u001b[1;36m1\u001b[0m\u001b[1;33m:\u001b[0m\u001b[1;33m\u001b[0m\u001b[1;33m\u001b[0m\u001b[0m\n\u001b[0;32m   2901\u001b[0m                 \u001b[1;32mreturn\u001b[0m \u001b[0mself\u001b[0m\u001b[1;33m.\u001b[0m\u001b[0m_getitem_multilevel\u001b[0m\u001b[1;33m(\u001b[0m\u001b[0mkey\u001b[0m\u001b[1;33m)\u001b[0m\u001b[1;33m\u001b[0m\u001b[1;33m\u001b[0m\u001b[0m\n\u001b[1;32m-> 2902\u001b[1;33m             \u001b[0mindexer\u001b[0m \u001b[1;33m=\u001b[0m \u001b[0mself\u001b[0m\u001b[1;33m.\u001b[0m\u001b[0mcolumns\u001b[0m\u001b[1;33m.\u001b[0m\u001b[0mget_loc\u001b[0m\u001b[1;33m(\u001b[0m\u001b[0mkey\u001b[0m\u001b[1;33m)\u001b[0m\u001b[1;33m\u001b[0m\u001b[1;33m\u001b[0m\u001b[0m\n\u001b[0m\u001b[0;32m   2903\u001b[0m             \u001b[1;32mif\u001b[0m \u001b[0mis_integer\u001b[0m\u001b[1;33m(\u001b[0m\u001b[0mindexer\u001b[0m\u001b[1;33m)\u001b[0m\u001b[1;33m:\u001b[0m\u001b[1;33m\u001b[0m\u001b[1;33m\u001b[0m\u001b[0m\n\u001b[0;32m   2904\u001b[0m                 \u001b[0mindexer\u001b[0m \u001b[1;33m=\u001b[0m \u001b[1;33m[\u001b[0m\u001b[0mindexer\u001b[0m\u001b[1;33m]\u001b[0m\u001b[1;33m\u001b[0m\u001b[1;33m\u001b[0m\u001b[0m\n",
      "\u001b[1;32mC:\\ProgramData\\Anaconda3\\lib\\site-packages\\pandas\\core\\indexes\\base.py\u001b[0m in \u001b[0;36mget_loc\u001b[1;34m(self, key, method, tolerance)\u001b[0m\n\u001b[0;32m   2895\u001b[0m                 \u001b[1;32mreturn\u001b[0m \u001b[0mself\u001b[0m\u001b[1;33m.\u001b[0m\u001b[0m_engine\u001b[0m\u001b[1;33m.\u001b[0m\u001b[0mget_loc\u001b[0m\u001b[1;33m(\u001b[0m\u001b[0mcasted_key\u001b[0m\u001b[1;33m)\u001b[0m\u001b[1;33m\u001b[0m\u001b[1;33m\u001b[0m\u001b[0m\n\u001b[0;32m   2896\u001b[0m             \u001b[1;32mexcept\u001b[0m \u001b[0mKeyError\u001b[0m \u001b[1;32mas\u001b[0m \u001b[0merr\u001b[0m\u001b[1;33m:\u001b[0m\u001b[1;33m\u001b[0m\u001b[1;33m\u001b[0m\u001b[0m\n\u001b[1;32m-> 2897\u001b[1;33m                 \u001b[1;32mraise\u001b[0m \u001b[0mKeyError\u001b[0m\u001b[1;33m(\u001b[0m\u001b[0mkey\u001b[0m\u001b[1;33m)\u001b[0m \u001b[1;32mfrom\u001b[0m \u001b[0merr\u001b[0m\u001b[1;33m\u001b[0m\u001b[1;33m\u001b[0m\u001b[0m\n\u001b[0m\u001b[0;32m   2898\u001b[0m \u001b[1;33m\u001b[0m\u001b[0m\n\u001b[0;32m   2899\u001b[0m         \u001b[1;32mif\u001b[0m \u001b[0mtolerance\u001b[0m \u001b[1;32mis\u001b[0m \u001b[1;32mnot\u001b[0m \u001b[1;32mNone\u001b[0m\u001b[1;33m:\u001b[0m\u001b[1;33m\u001b[0m\u001b[1;33m\u001b[0m\u001b[0m\n",
      "\u001b[1;31mKeyError\u001b[0m: '계약년월'"
     ]
    }
   ],
   "source": [
    "s = df['계약년월'].astype(str)\n",
    "df['연도'] = s.str[0:4].astype(int)\n",
    "df['월'] = s.str[-2:].astype(int)\n",
    "del df['계약년월']\n",
    "df.head()"
   ]
  },
  {
   "cell_type": "code",
   "execution_count": 41,
   "metadata": {
    "ExecuteTime": {
     "end_time": "2022-10-18T17:16:02.468591Z",
     "start_time": "2022-10-18T17:16:02.219992Z"
    }
   },
   "outputs": [
    {
     "data": {
      "text/html": [
       "<div>\n",
       "<style scoped>\n",
       "    .dataframe tbody tr th:only-of-type {\n",
       "        vertical-align: middle;\n",
       "    }\n",
       "\n",
       "    .dataframe tbody tr th {\n",
       "        vertical-align: top;\n",
       "    }\n",
       "\n",
       "    .dataframe thead th {\n",
       "        text-align: right;\n",
       "    }\n",
       "</style>\n",
       "<table border=\"1\" class=\"dataframe\">\n",
       "  <thead>\n",
       "    <tr style=\"text-align: right;\">\n",
       "      <th></th>\n",
       "      <th>시군구</th>\n",
       "      <th>주택유형</th>\n",
       "      <th>도로조건</th>\n",
       "      <th>연면적(㎡)</th>\n",
       "      <th>대지면적(㎡)</th>\n",
       "      <th>거래금액(만원)</th>\n",
       "      <th>건축년도</th>\n",
       "      <th>연도</th>\n",
       "      <th>월</th>\n",
       "    </tr>\n",
       "  </thead>\n",
       "  <tbody>\n",
       "    <tr>\n",
       "      <th>0</th>\n",
       "      <td>강원도 강릉시 강동면 모전리</td>\n",
       "      <td>단독</td>\n",
       "      <td>8.0</td>\n",
       "      <td>64.20</td>\n",
       "      <td>205.0</td>\n",
       "      <td>10520.0</td>\n",
       "      <td>2018</td>\n",
       "      <td>2018</td>\n",
       "      <td>1</td>\n",
       "    </tr>\n",
       "    <tr>\n",
       "      <th>1</th>\n",
       "      <td>강원도 강릉시 견소동</td>\n",
       "      <td>단독</td>\n",
       "      <td>12.0</td>\n",
       "      <td>35.60</td>\n",
       "      <td>81.0</td>\n",
       "      <td>4000.0</td>\n",
       "      <td>1990</td>\n",
       "      <td>2018</td>\n",
       "      <td>1</td>\n",
       "    </tr>\n",
       "    <tr>\n",
       "      <th>2</th>\n",
       "      <td>강원도 강릉시 교동</td>\n",
       "      <td>단독</td>\n",
       "      <td>12.0</td>\n",
       "      <td>99.90</td>\n",
       "      <td>160.0</td>\n",
       "      <td>16500.0</td>\n",
       "      <td>1982</td>\n",
       "      <td>2018</td>\n",
       "      <td>1</td>\n",
       "    </tr>\n",
       "    <tr>\n",
       "      <th>3</th>\n",
       "      <td>강원도 강릉시 교동</td>\n",
       "      <td>단독</td>\n",
       "      <td>12.0</td>\n",
       "      <td>326.88</td>\n",
       "      <td>211.6</td>\n",
       "      <td>64300.0</td>\n",
       "      <td>2005</td>\n",
       "      <td>2018</td>\n",
       "      <td>1</td>\n",
       "    </tr>\n",
       "    <tr>\n",
       "      <th>4</th>\n",
       "      <td>강원도 강릉시 교동</td>\n",
       "      <td>단독</td>\n",
       "      <td>8.0</td>\n",
       "      <td>154.99</td>\n",
       "      <td>240.2</td>\n",
       "      <td>19000.0</td>\n",
       "      <td>1980</td>\n",
       "      <td>2018</td>\n",
       "      <td>1</td>\n",
       "    </tr>\n",
       "  </tbody>\n",
       "</table>\n",
       "</div>"
      ],
      "text/plain": [
       "               시군구 주택유형  도로조건  연면적(㎡)  대지면적(㎡)  거래금액(만원)  건축년도    연도  월\n",
       "0  강원도 강릉시 강동면 모전리   단독   8.0   64.20    205.0   10520.0  2018  2018  1\n",
       "1      강원도 강릉시 견소동   단독  12.0   35.60     81.0    4000.0  1990  2018  1\n",
       "2       강원도 강릉시 교동   단독  12.0   99.90    160.0   16500.0  1982  2018  1\n",
       "3       강원도 강릉시 교동   단독  12.0  326.88    211.6   64300.0  2005  2018  1\n",
       "4       강원도 강릉시 교동   단독   8.0  154.99    240.2   19000.0  1980  2018  1"
      ]
     },
     "execution_count": 41,
     "metadata": {},
     "output_type": "execute_result"
    }
   ],
   "source": [
    "del df['번지']\n",
    "del df['계약일']\n",
    "del df['도로명']\n",
    "\n",
    "df.head()"
   ]
  },
  {
   "cell_type": "code",
   "execution_count": 42,
   "metadata": {
    "ExecuteTime": {
     "end_time": "2022-10-18T17:16:07.958093Z",
     "start_time": "2022-10-18T17:16:07.938146Z"
    }
   },
   "outputs": [
    {
     "data": {
      "text/plain": [
       "시군구          object\n",
       "주택유형         object\n",
       "도로조건        float64\n",
       "연면적(㎡)      float64\n",
       "대지면적(㎡)     float64\n",
       "거래금액(만원)    float64\n",
       "건축년도          int64\n",
       "연도            int32\n",
       "월             int32\n",
       "dtype: object"
      ]
     },
     "execution_count": 42,
     "metadata": {},
     "output_type": "execute_result"
    }
   ],
   "source": [
    "df.dtypes"
   ]
  },
  {
   "cell_type": "code",
   "execution_count": 43,
   "metadata": {
    "ExecuteTime": {
     "end_time": "2022-10-18T17:16:10.393733Z",
     "start_time": "2022-10-18T17:16:10.176615Z"
    }
   },
   "outputs": [
    {
     "data": {
      "text/html": [
       "<div>\n",
       "<style scoped>\n",
       "    .dataframe tbody tr th:only-of-type {\n",
       "        vertical-align: middle;\n",
       "    }\n",
       "\n",
       "    .dataframe tbody tr th {\n",
       "        vertical-align: top;\n",
       "    }\n",
       "\n",
       "    .dataframe thead th {\n",
       "        text-align: right;\n",
       "    }\n",
       "</style>\n",
       "<table border=\"1\" class=\"dataframe\">\n",
       "  <thead>\n",
       "    <tr style=\"text-align: right;\">\n",
       "      <th></th>\n",
       "      <th>도로조건</th>\n",
       "      <th>연면적(㎡)</th>\n",
       "      <th>대지면적(㎡)</th>\n",
       "      <th>거래금액(만원)</th>\n",
       "      <th>건축년도</th>\n",
       "      <th>연도</th>\n",
       "      <th>월</th>\n",
       "    </tr>\n",
       "  </thead>\n",
       "  <tbody>\n",
       "    <tr>\n",
       "      <th>count</th>\n",
       "      <td>93156.000000</td>\n",
       "      <td>93156.000000</td>\n",
       "      <td>93156.000000</td>\n",
       "      <td>9.315600e+04</td>\n",
       "      <td>93156.000000</td>\n",
       "      <td>93156.0</td>\n",
       "      <td>93156.000000</td>\n",
       "    </tr>\n",
       "    <tr>\n",
       "      <th>mean</th>\n",
       "      <td>9.630190</td>\n",
       "      <td>160.954894</td>\n",
       "      <td>269.242972</td>\n",
       "      <td>4.133243e+04</td>\n",
       "      <td>1986.259608</td>\n",
       "      <td>2018.0</td>\n",
       "      <td>6.166763</td>\n",
       "    </tr>\n",
       "    <tr>\n",
       "      <th>std</th>\n",
       "      <td>4.230676</td>\n",
       "      <td>153.372718</td>\n",
       "      <td>535.536227</td>\n",
       "      <td>5.296433e+04</td>\n",
       "      <td>54.643186</td>\n",
       "      <td>0.0</td>\n",
       "      <td>3.306179</td>\n",
       "    </tr>\n",
       "    <tr>\n",
       "      <th>min</th>\n",
       "      <td>0.000000</td>\n",
       "      <td>4.860000</td>\n",
       "      <td>3.880000</td>\n",
       "      <td>1.500000e+02</td>\n",
       "      <td>0.000000</td>\n",
       "      <td>2018.0</td>\n",
       "      <td>1.000000</td>\n",
       "    </tr>\n",
       "    <tr>\n",
       "      <th>25%</th>\n",
       "      <td>8.000000</td>\n",
       "      <td>69.410000</td>\n",
       "      <td>123.800000</td>\n",
       "      <td>1.200000e+04</td>\n",
       "      <td>1978.000000</td>\n",
       "      <td>2018.0</td>\n",
       "      <td>3.000000</td>\n",
       "    </tr>\n",
       "    <tr>\n",
       "      <th>50%</th>\n",
       "      <td>8.000000</td>\n",
       "      <td>112.200000</td>\n",
       "      <td>186.100000</td>\n",
       "      <td>2.550000e+04</td>\n",
       "      <td>1989.000000</td>\n",
       "      <td>2018.0</td>\n",
       "      <td>6.000000</td>\n",
       "    </tr>\n",
       "    <tr>\n",
       "      <th>75%</th>\n",
       "      <td>12.000000</td>\n",
       "      <td>191.900000</td>\n",
       "      <td>323.600000</td>\n",
       "      <td>5.250000e+04</td>\n",
       "      <td>2001.000000</td>\n",
       "      <td>2018.0</td>\n",
       "      <td>9.000000</td>\n",
       "    </tr>\n",
       "    <tr>\n",
       "      <th>max</th>\n",
       "      <td>26.000000</td>\n",
       "      <td>5225.220000</td>\n",
       "      <td>119119.000000</td>\n",
       "      <td>1.998130e+06</td>\n",
       "      <td>2019.000000</td>\n",
       "      <td>2018.0</td>\n",
       "      <td>12.000000</td>\n",
       "    </tr>\n",
       "  </tbody>\n",
       "</table>\n",
       "</div>"
      ],
      "text/plain": [
       "               도로조건        연면적(㎡)        대지면적(㎡)      거래금액(만원)          건축년도  \\\n",
       "count  93156.000000  93156.000000   93156.000000  9.315600e+04  93156.000000   \n",
       "mean       9.630190    160.954894     269.242972  4.133243e+04   1986.259608   \n",
       "std        4.230676    153.372718     535.536227  5.296433e+04     54.643186   \n",
       "min        0.000000      4.860000       3.880000  1.500000e+02      0.000000   \n",
       "25%        8.000000     69.410000     123.800000  1.200000e+04   1978.000000   \n",
       "50%        8.000000    112.200000     186.100000  2.550000e+04   1989.000000   \n",
       "75%       12.000000    191.900000     323.600000  5.250000e+04   2001.000000   \n",
       "max       26.000000   5225.220000  119119.000000  1.998130e+06   2019.000000   \n",
       "\n",
       "            연도             월  \n",
       "count  93156.0  93156.000000  \n",
       "mean    2018.0      6.166763  \n",
       "std        0.0      3.306179  \n",
       "min     2018.0      1.000000  \n",
       "25%     2018.0      3.000000  \n",
       "50%     2018.0      6.000000  \n",
       "75%     2018.0      9.000000  \n",
       "max     2018.0     12.000000  "
      ]
     },
     "execution_count": 43,
     "metadata": {},
     "output_type": "execute_result"
    }
   ],
   "source": [
    "df.describe()"
   ]
  },
  {
   "cell_type": "markdown",
   "metadata": {},
   "source": [
    "#### 소재 지역 정리"
   ]
  },
  {
   "cell_type": "code",
   "execution_count": 44,
   "metadata": {
    "ExecuteTime": {
     "end_time": "2022-10-18T17:16:25.660750Z",
     "start_time": "2022-10-18T17:16:23.675397Z"
    }
   },
   "outputs": [],
   "source": [
    "SiDo = []\n",
    "SiGunGu = []\n",
    "DongLi = []\n",
    "\n",
    "for i in range(0,len(df['시군구'])):\n",
    "    tmp = df['시군구'][i].split()  # 띄어쓰기로 split\n",
    "    SiDo.append(tmp[0])            # 시/도\n",
    "    SiGunGu.append(tmp[1])         # 시/군/구\n",
    "    if len(tmp) > 3:\n",
    "        DongLi.append(tmp[-1]+'('+tmp[2]+')')\n",
    "    else:\n",
    "        DongLi.append(tmp[-1])"
   ]
  },
  {
   "cell_type": "code",
   "execution_count": 45,
   "metadata": {
    "ExecuteTime": {
     "end_time": "2022-10-18T17:16:27.202148Z",
     "start_time": "2022-10-18T17:16:27.120296Z"
    }
   },
   "outputs": [
    {
     "data": {
      "text/html": [
       "<div>\n",
       "<style scoped>\n",
       "    .dataframe tbody tr th:only-of-type {\n",
       "        vertical-align: middle;\n",
       "    }\n",
       "\n",
       "    .dataframe tbody tr th {\n",
       "        vertical-align: top;\n",
       "    }\n",
       "\n",
       "    .dataframe thead th {\n",
       "        text-align: right;\n",
       "    }\n",
       "</style>\n",
       "<table border=\"1\" class=\"dataframe\">\n",
       "  <thead>\n",
       "    <tr style=\"text-align: right;\">\n",
       "      <th></th>\n",
       "      <th>시군구</th>\n",
       "      <th>주택유형</th>\n",
       "      <th>도로조건</th>\n",
       "      <th>연면적(㎡)</th>\n",
       "      <th>대지면적(㎡)</th>\n",
       "      <th>거래금액(만원)</th>\n",
       "      <th>건축년도</th>\n",
       "      <th>연도</th>\n",
       "      <th>월</th>\n",
       "      <th>SiDo</th>\n",
       "      <th>SiGunGu</th>\n",
       "      <th>DongLi</th>\n",
       "    </tr>\n",
       "  </thead>\n",
       "  <tbody>\n",
       "    <tr>\n",
       "      <th>0</th>\n",
       "      <td>강원도 강릉시 강동면 모전리</td>\n",
       "      <td>단독</td>\n",
       "      <td>8.0</td>\n",
       "      <td>64.20</td>\n",
       "      <td>205.0</td>\n",
       "      <td>10520.0</td>\n",
       "      <td>2018</td>\n",
       "      <td>2018</td>\n",
       "      <td>1</td>\n",
       "      <td>강원도</td>\n",
       "      <td>강릉시</td>\n",
       "      <td>모전리(강동면)</td>\n",
       "    </tr>\n",
       "    <tr>\n",
       "      <th>1</th>\n",
       "      <td>강원도 강릉시 견소동</td>\n",
       "      <td>단독</td>\n",
       "      <td>12.0</td>\n",
       "      <td>35.60</td>\n",
       "      <td>81.0</td>\n",
       "      <td>4000.0</td>\n",
       "      <td>1990</td>\n",
       "      <td>2018</td>\n",
       "      <td>1</td>\n",
       "      <td>강원도</td>\n",
       "      <td>강릉시</td>\n",
       "      <td>견소동</td>\n",
       "    </tr>\n",
       "    <tr>\n",
       "      <th>2</th>\n",
       "      <td>강원도 강릉시 교동</td>\n",
       "      <td>단독</td>\n",
       "      <td>12.0</td>\n",
       "      <td>99.90</td>\n",
       "      <td>160.0</td>\n",
       "      <td>16500.0</td>\n",
       "      <td>1982</td>\n",
       "      <td>2018</td>\n",
       "      <td>1</td>\n",
       "      <td>강원도</td>\n",
       "      <td>강릉시</td>\n",
       "      <td>교동</td>\n",
       "    </tr>\n",
       "    <tr>\n",
       "      <th>3</th>\n",
       "      <td>강원도 강릉시 교동</td>\n",
       "      <td>단독</td>\n",
       "      <td>12.0</td>\n",
       "      <td>326.88</td>\n",
       "      <td>211.6</td>\n",
       "      <td>64300.0</td>\n",
       "      <td>2005</td>\n",
       "      <td>2018</td>\n",
       "      <td>1</td>\n",
       "      <td>강원도</td>\n",
       "      <td>강릉시</td>\n",
       "      <td>교동</td>\n",
       "    </tr>\n",
       "    <tr>\n",
       "      <th>4</th>\n",
       "      <td>강원도 강릉시 교동</td>\n",
       "      <td>단독</td>\n",
       "      <td>8.0</td>\n",
       "      <td>154.99</td>\n",
       "      <td>240.2</td>\n",
       "      <td>19000.0</td>\n",
       "      <td>1980</td>\n",
       "      <td>2018</td>\n",
       "      <td>1</td>\n",
       "      <td>강원도</td>\n",
       "      <td>강릉시</td>\n",
       "      <td>교동</td>\n",
       "    </tr>\n",
       "  </tbody>\n",
       "</table>\n",
       "</div>"
      ],
      "text/plain": [
       "               시군구 주택유형  도로조건  연면적(㎡)  대지면적(㎡)  거래금액(만원)  건축년도    연도  월 SiDo  \\\n",
       "0  강원도 강릉시 강동면 모전리   단독   8.0   64.20    205.0   10520.0  2018  2018  1  강원도   \n",
       "1      강원도 강릉시 견소동   단독  12.0   35.60     81.0    4000.0  1990  2018  1  강원도   \n",
       "2       강원도 강릉시 교동   단독  12.0   99.90    160.0   16500.0  1982  2018  1  강원도   \n",
       "3       강원도 강릉시 교동   단독  12.0  326.88    211.6   64300.0  2005  2018  1  강원도   \n",
       "4       강원도 강릉시 교동   단독   8.0  154.99    240.2   19000.0  1980  2018  1  강원도   \n",
       "\n",
       "  SiGunGu    DongLi  \n",
       "0     강릉시  모전리(강동면)  \n",
       "1     강릉시       견소동  \n",
       "2     강릉시        교동  \n",
       "3     강릉시        교동  \n",
       "4     강릉시        교동  "
      ]
     },
     "execution_count": 45,
     "metadata": {},
     "output_type": "execute_result"
    }
   ],
   "source": [
    "# data = df.copy()\n",
    "df['SiDo'] = SiDo \n",
    "df['SiGunGu'] = SiGunGu\n",
    "df['DongLi'] = DongLi\n",
    "\n",
    "df.head()"
   ]
  },
  {
   "cell_type": "code",
   "execution_count": 46,
   "metadata": {
    "ExecuteTime": {
     "end_time": "2022-10-18T17:16:29.137330Z",
     "start_time": "2022-10-18T17:16:29.090230Z"
    }
   },
   "outputs": [
    {
     "data": {
      "text/plain": [
       "array(['강원도', '경기도', '경상남도', '경상북도', '광주광역시', '대구광역시', '대전광역시', '부산광역시',\n",
       "       '서울특별시', '세종특별자치시', '울산광역시', '인천광역시', '전라남도', '전라북도', '제주특별자치도',\n",
       "       '충청남도', '충청북도'], dtype=object)"
      ]
     },
     "execution_count": 46,
     "metadata": {},
     "output_type": "execute_result"
    }
   ],
   "source": [
    "df['SiDo'].unique() # 17개 광역지방자치단체"
   ]
  },
  {
   "cell_type": "code",
   "execution_count": 47,
   "metadata": {
    "ExecuteTime": {
     "end_time": "2022-10-18T17:16:30.235546Z",
     "start_time": "2022-10-18T17:16:30.217496Z"
    }
   },
   "outputs": [],
   "source": [
    "def cut_char_sigu(name):\n",
    "    return name if len(name)==2 else name[:-1]"
   ]
  },
  {
   "cell_type": "code",
   "execution_count": 48,
   "metadata": {
    "ExecuteTime": {
     "end_time": "2022-10-18T17:16:37.482909Z",
     "start_time": "2022-10-18T17:16:36.336465Z"
    }
   },
   "outputs": [
    {
     "name": "stdout",
     "output_type": "stream",
     "text": [
      "고양 덕양\n"
     ]
    }
   ],
   "source": [
    "sido_candi =  df['SiDo']\n",
    "sido_candi = [name[:2] if name[:2] in ['서울','부산','대구','광주','인천','대전','울산','세종'] else '' for name in sido_candi]\n",
    "\n",
    "sigun_candi = ['']*len(df)\n",
    "for n in df.index:\n",
    "#     print(n)\n",
    "    each = df['SiGunGu'][n]\n",
    "    if each[:2] in ['수원', '성남','안양','안산','고양','용인','청주','천안','전주','포항','창원']:\n",
    "        sigun_candi[n] = each[:2] + ' ' + each[2:-1] #re.split('시', each)[0]+' '+ cut_char_sigu(re.split('시', each)[1])\n",
    "    else:\n",
    "        sigun_candi[n] = cut_char_sigu(each)\n",
    "        \n",
    "print(sigun_candi[403])"
   ]
  },
  {
   "cell_type": "code",
   "execution_count": 49,
   "metadata": {
    "ExecuteTime": {
     "end_time": "2022-10-18T17:16:40.749413Z",
     "start_time": "2022-10-18T17:16:40.687579Z"
    }
   },
   "outputs": [],
   "source": [
    "ID_candi = [sido_candi[n]+' '+sigun_candi[n] for n in range(0,len(sigun_candi))]\n",
    "# ID_candi"
   ]
  },
  {
   "cell_type": "code",
   "execution_count": 50,
   "metadata": {
    "ExecuteTime": {
     "end_time": "2022-10-18T17:16:45.861578Z",
     "start_time": "2022-10-18T17:16:45.849609Z"
    }
   },
   "outputs": [
    {
     "data": {
      "text/plain": [
       "'세종 연서'"
      ]
     },
     "execution_count": 50,
     "metadata": {},
     "output_type": "execute_result"
    }
   ],
   "source": [
    "ID_candi[12985]"
   ]
  },
  {
   "cell_type": "code",
   "execution_count": 51,
   "metadata": {
    "ExecuteTime": {
     "end_time": "2022-10-18T17:16:48.970501Z",
     "start_time": "2022-10-18T17:16:48.931606Z"
    }
   },
   "outputs": [
    {
     "data": {
      "text/html": [
       "<div>\n",
       "<style scoped>\n",
       "    .dataframe tbody tr th:only-of-type {\n",
       "        vertical-align: middle;\n",
       "    }\n",
       "\n",
       "    .dataframe tbody tr th {\n",
       "        vertical-align: top;\n",
       "    }\n",
       "\n",
       "    .dataframe thead th {\n",
       "        text-align: right;\n",
       "    }\n",
       "</style>\n",
       "<table border=\"1\" class=\"dataframe\">\n",
       "  <thead>\n",
       "    <tr style=\"text-align: right;\">\n",
       "      <th></th>\n",
       "      <th>시군구</th>\n",
       "      <th>주택유형</th>\n",
       "      <th>도로조건</th>\n",
       "      <th>연면적(㎡)</th>\n",
       "      <th>대지면적(㎡)</th>\n",
       "      <th>거래금액(만원)</th>\n",
       "      <th>건축년도</th>\n",
       "      <th>연도</th>\n",
       "      <th>월</th>\n",
       "      <th>SiDo</th>\n",
       "      <th>SiGunGu</th>\n",
       "      <th>DongLi</th>\n",
       "      <th>ID</th>\n",
       "    </tr>\n",
       "  </thead>\n",
       "  <tbody>\n",
       "    <tr>\n",
       "      <th>0</th>\n",
       "      <td>강원도 강릉시 강동면 모전리</td>\n",
       "      <td>단독</td>\n",
       "      <td>8.0</td>\n",
       "      <td>64.20</td>\n",
       "      <td>205.0</td>\n",
       "      <td>10520.0</td>\n",
       "      <td>2018</td>\n",
       "      <td>2018</td>\n",
       "      <td>1</td>\n",
       "      <td>강원도</td>\n",
       "      <td>강릉시</td>\n",
       "      <td>모전리(강동면)</td>\n",
       "      <td>강릉</td>\n",
       "    </tr>\n",
       "    <tr>\n",
       "      <th>1</th>\n",
       "      <td>강원도 강릉시 견소동</td>\n",
       "      <td>단독</td>\n",
       "      <td>12.0</td>\n",
       "      <td>35.60</td>\n",
       "      <td>81.0</td>\n",
       "      <td>4000.0</td>\n",
       "      <td>1990</td>\n",
       "      <td>2018</td>\n",
       "      <td>1</td>\n",
       "      <td>강원도</td>\n",
       "      <td>강릉시</td>\n",
       "      <td>견소동</td>\n",
       "      <td>강릉</td>\n",
       "    </tr>\n",
       "    <tr>\n",
       "      <th>2</th>\n",
       "      <td>강원도 강릉시 교동</td>\n",
       "      <td>단독</td>\n",
       "      <td>12.0</td>\n",
       "      <td>99.90</td>\n",
       "      <td>160.0</td>\n",
       "      <td>16500.0</td>\n",
       "      <td>1982</td>\n",
       "      <td>2018</td>\n",
       "      <td>1</td>\n",
       "      <td>강원도</td>\n",
       "      <td>강릉시</td>\n",
       "      <td>교동</td>\n",
       "      <td>강릉</td>\n",
       "    </tr>\n",
       "    <tr>\n",
       "      <th>3</th>\n",
       "      <td>강원도 강릉시 교동</td>\n",
       "      <td>단독</td>\n",
       "      <td>12.0</td>\n",
       "      <td>326.88</td>\n",
       "      <td>211.6</td>\n",
       "      <td>64300.0</td>\n",
       "      <td>2005</td>\n",
       "      <td>2018</td>\n",
       "      <td>1</td>\n",
       "      <td>강원도</td>\n",
       "      <td>강릉시</td>\n",
       "      <td>교동</td>\n",
       "      <td>강릉</td>\n",
       "    </tr>\n",
       "    <tr>\n",
       "      <th>4</th>\n",
       "      <td>강원도 강릉시 교동</td>\n",
       "      <td>단독</td>\n",
       "      <td>8.0</td>\n",
       "      <td>154.99</td>\n",
       "      <td>240.2</td>\n",
       "      <td>19000.0</td>\n",
       "      <td>1980</td>\n",
       "      <td>2018</td>\n",
       "      <td>1</td>\n",
       "      <td>강원도</td>\n",
       "      <td>강릉시</td>\n",
       "      <td>교동</td>\n",
       "      <td>강릉</td>\n",
       "    </tr>\n",
       "  </tbody>\n",
       "</table>\n",
       "</div>"
      ],
      "text/plain": [
       "               시군구 주택유형  도로조건  연면적(㎡)  대지면적(㎡)  거래금액(만원)  건축년도    연도  월 SiDo  \\\n",
       "0  강원도 강릉시 강동면 모전리   단독   8.0   64.20    205.0   10520.0  2018  2018  1  강원도   \n",
       "1      강원도 강릉시 견소동   단독  12.0   35.60     81.0    4000.0  1990  2018  1  강원도   \n",
       "2       강원도 강릉시 교동   단독  12.0   99.90    160.0   16500.0  1982  2018  1  강원도   \n",
       "3       강원도 강릉시 교동   단독  12.0  326.88    211.6   64300.0  2005  2018  1  강원도   \n",
       "4       강원도 강릉시 교동   단독   8.0  154.99    240.2   19000.0  1980  2018  1  강원도   \n",
       "\n",
       "  SiGunGu    DongLi   ID  \n",
       "0     강릉시  모전리(강동면)   강릉  \n",
       "1     강릉시       견소동   강릉  \n",
       "2     강릉시        교동   강릉  \n",
       "3     강릉시        교동   강릉  \n",
       "4     강릉시        교동   강릉  "
      ]
     },
     "execution_count": 51,
     "metadata": {},
     "output_type": "execute_result"
    }
   ],
   "source": [
    "df['ID'] = ID_candi\n",
    "# del data['시군구']\n",
    "\n",
    "df.head()"
   ]
  },
  {
   "cell_type": "code",
   "execution_count": 52,
   "metadata": {
    "ExecuteTime": {
     "end_time": "2022-10-18T17:17:46.362333Z",
     "start_time": "2022-10-18T17:16:56.358614Z"
    }
   },
   "outputs": [],
   "source": [
    "df.to_excel('data/2018_modified_data.xlsx',index=None, encoding='utf-8') # 파일 저장"
   ]
  },
  {
   "cell_type": "code",
   "execution_count": 53,
   "metadata": {
    "ExecuteTime": {
     "end_time": "2022-10-18T17:18:16.492291Z",
     "start_time": "2022-10-18T17:17:46.366322Z"
    }
   },
   "outputs": [
    {
     "data": {
      "text/html": [
       "<div>\n",
       "<style scoped>\n",
       "    .dataframe tbody tr th:only-of-type {\n",
       "        vertical-align: middle;\n",
       "    }\n",
       "\n",
       "    .dataframe tbody tr th {\n",
       "        vertical-align: top;\n",
       "    }\n",
       "\n",
       "    .dataframe thead th {\n",
       "        text-align: right;\n",
       "    }\n",
       "</style>\n",
       "<table border=\"1\" class=\"dataframe\">\n",
       "  <thead>\n",
       "    <tr style=\"text-align: right;\">\n",
       "      <th></th>\n",
       "      <th>시군구</th>\n",
       "      <th>주택유형</th>\n",
       "      <th>도로조건</th>\n",
       "      <th>연면적(㎡)</th>\n",
       "      <th>대지면적(㎡)</th>\n",
       "      <th>거래금액(만원)</th>\n",
       "      <th>건축년도</th>\n",
       "      <th>연도</th>\n",
       "      <th>월</th>\n",
       "      <th>SiDo</th>\n",
       "      <th>SiGunGu</th>\n",
       "      <th>DongLi</th>\n",
       "      <th>ID</th>\n",
       "    </tr>\n",
       "  </thead>\n",
       "  <tbody>\n",
       "    <tr>\n",
       "      <th>0</th>\n",
       "      <td>강원도 강릉시 강동면 모전리</td>\n",
       "      <td>단독</td>\n",
       "      <td>8</td>\n",
       "      <td>64.20</td>\n",
       "      <td>205.0</td>\n",
       "      <td>10520</td>\n",
       "      <td>2018</td>\n",
       "      <td>2018</td>\n",
       "      <td>1</td>\n",
       "      <td>강원도</td>\n",
       "      <td>강릉시</td>\n",
       "      <td>모전리(강동면)</td>\n",
       "      <td>강릉</td>\n",
       "    </tr>\n",
       "    <tr>\n",
       "      <th>1</th>\n",
       "      <td>강원도 강릉시 견소동</td>\n",
       "      <td>단독</td>\n",
       "      <td>12</td>\n",
       "      <td>35.60</td>\n",
       "      <td>81.0</td>\n",
       "      <td>4000</td>\n",
       "      <td>1990</td>\n",
       "      <td>2018</td>\n",
       "      <td>1</td>\n",
       "      <td>강원도</td>\n",
       "      <td>강릉시</td>\n",
       "      <td>견소동</td>\n",
       "      <td>강릉</td>\n",
       "    </tr>\n",
       "    <tr>\n",
       "      <th>2</th>\n",
       "      <td>강원도 강릉시 교동</td>\n",
       "      <td>단독</td>\n",
       "      <td>12</td>\n",
       "      <td>99.90</td>\n",
       "      <td>160.0</td>\n",
       "      <td>16500</td>\n",
       "      <td>1982</td>\n",
       "      <td>2018</td>\n",
       "      <td>1</td>\n",
       "      <td>강원도</td>\n",
       "      <td>강릉시</td>\n",
       "      <td>교동</td>\n",
       "      <td>강릉</td>\n",
       "    </tr>\n",
       "    <tr>\n",
       "      <th>3</th>\n",
       "      <td>강원도 강릉시 교동</td>\n",
       "      <td>단독</td>\n",
       "      <td>12</td>\n",
       "      <td>326.88</td>\n",
       "      <td>211.6</td>\n",
       "      <td>64300</td>\n",
       "      <td>2005</td>\n",
       "      <td>2018</td>\n",
       "      <td>1</td>\n",
       "      <td>강원도</td>\n",
       "      <td>강릉시</td>\n",
       "      <td>교동</td>\n",
       "      <td>강릉</td>\n",
       "    </tr>\n",
       "    <tr>\n",
       "      <th>4</th>\n",
       "      <td>강원도 강릉시 교동</td>\n",
       "      <td>단독</td>\n",
       "      <td>8</td>\n",
       "      <td>154.99</td>\n",
       "      <td>240.2</td>\n",
       "      <td>19000</td>\n",
       "      <td>1980</td>\n",
       "      <td>2018</td>\n",
       "      <td>1</td>\n",
       "      <td>강원도</td>\n",
       "      <td>강릉시</td>\n",
       "      <td>교동</td>\n",
       "      <td>강릉</td>\n",
       "    </tr>\n",
       "  </tbody>\n",
       "</table>\n",
       "</div>"
      ],
      "text/plain": [
       "               시군구 주택유형  도로조건  연면적(㎡)  대지면적(㎡)  거래금액(만원)  건축년도    연도  월 SiDo  \\\n",
       "0  강원도 강릉시 강동면 모전리   단독     8   64.20    205.0     10520  2018  2018  1  강원도   \n",
       "1      강원도 강릉시 견소동   단독    12   35.60     81.0      4000  1990  2018  1  강원도   \n",
       "2       강원도 강릉시 교동   단독    12   99.90    160.0     16500  1982  2018  1  강원도   \n",
       "3       강원도 강릉시 교동   단독    12  326.88    211.6     64300  2005  2018  1  강원도   \n",
       "4       강원도 강릉시 교동   단독     8  154.99    240.2     19000  1980  2018  1  강원도   \n",
       "\n",
       "  SiGunGu    DongLi   ID  \n",
       "0     강릉시  모전리(강동면)   강릉  \n",
       "1     강릉시       견소동   강릉  \n",
       "2     강릉시        교동   강릉  \n",
       "3     강릉시        교동   강릉  \n",
       "4     강릉시        교동   강릉  "
      ]
     },
     "execution_count": 53,
     "metadata": {},
     "output_type": "execute_result"
    }
   ],
   "source": [
    "house_data = pd.read_excel('data/2018_modified_data.xlsx', \n",
    "                           index_col=None, header=0) # 파일 불러오기\n",
    "house_data.head()"
   ]
  }
 ],
 "metadata": {
  "kernelspec": {
   "display_name": "Python 3",
   "language": "python",
   "name": "python3"
  },
  "language_info": {
   "codemirror_mode": {
    "name": "ipython",
    "version": 3
   },
   "file_extension": ".py",
   "mimetype": "text/x-python",
   "name": "python",
   "nbconvert_exporter": "python",
   "pygments_lexer": "ipython3",
   "version": "3.8.5"
  },
  "toc": {
   "base_numbering": 1,
   "nav_menu": {},
   "number_sections": true,
   "sideBar": true,
   "skip_h1_title": false,
   "title_cell": "Table of Contents",
   "title_sidebar": "Contents",
   "toc_cell": false,
   "toc_position": {},
   "toc_section_display": true,
   "toc_window_display": false
  }
 },
 "nbformat": 4,
 "nbformat_minor": 4
}
