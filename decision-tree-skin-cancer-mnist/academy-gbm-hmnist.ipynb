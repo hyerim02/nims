{
 "cells": [
  {
   "cell_type": "code",
   "execution_count": null,
   "metadata": {},
   "outputs": [],
   "source": [
    "%matplotlib inline\n",
    "import matplotlib.pyplot as plt\n",
    "import numpy as np\n",
    "import pandas as pd\n",
    "import xgboost as xgb\n",
    "import os\n",
    "os.environ['KMP_DUPLICATE_LIB_OK']='True'\n",
    "\n",
    "from sklearn.preprocessing import LabelEncoder\n",
    "\n",
    "from sklearn.metrics import confusion_matrix\n",
    "from sklearn.model_selection import train_test_split\n",
    "\n",
    "import itertools"
   ]
  },
  {
   "cell_type": "code",
   "execution_count": null,
   "metadata": {},
   "outputs": [],
   "source": [
    "df=pd.read_csv('./hmnist_28_28_RGB.csv')"
   ]
  },
  {
   "cell_type": "code",
   "execution_count": null,
   "metadata": {},
   "outputs": [],
   "source": [
    "df_2 = df[(df['label']==2)]\n",
    "df_4 = df[(df['label']==4)][0:1100]\n",
    "df_6 =df[(df['label']==6)]\n",
    "\n",
    "# 2: 양성 각화증, 4: 멜라닌 세포성 모반, 6: 흑색종\n",
    "df_246 = pd.concat([df_2, df_4, df_6])\n",
    "print(f'num of data: {len(df_246)}')"
   ]
  },
  {
   "cell_type": "code",
   "execution_count": null,
   "metadata": {},
   "outputs": [],
   "source": [
    "train, test = train_test_split(df_246, test_size=0.2, stratify=df_246['label'])"
   ]
  },
  {
   "cell_type": "code",
   "execution_count": null,
   "metadata": {
    "scrolled": true
   },
   "outputs": [],
   "source": [
    "x_train = []\n",
    "for i in range(len(train)):\n",
    "    x_train.append(train.iloc[i:i+1,:-1].values)\n",
    "x_train = np.stack( x_train, axis=0 ).astype('float32')\n",
    "\n",
    "\n",
    "x_test = []\n",
    "for i in range(len(test)):\n",
    "    x_test.append(test.iloc[i:i+1,:-1].values)\n",
    "x_test = np.stack( x_test, axis=0 ).astype('float32')\n",
    "\n",
    "y_train = train.iloc[:,-2].values\n",
    "y_test = test.iloc[:,-2].values"
   ]
  },
  {
   "cell_type": "code",
   "execution_count": null,
   "metadata": {},
   "outputs": [],
   "source": [
    "x_train = []\n",
    "for i in range(len(train)):\n",
    "    x_train.append(train.iloc[i,:-1].values)\n",
    "x_train = np.stack( x_train, axis=0 ).astype('float32')\n",
    "\n",
    "\n",
    "x_test = []\n",
    "for i in range(len(test)):\n",
    "    x_test.append(test.iloc[i,:-1].values)\n",
    "x_test = np.stack( x_test, axis=0 ).astype('float32')\n",
    "\n",
    "y_train = train.iloc[:,-1].values\n",
    "# 2 -> 0, 4 -> 1, 6 -> 2\n",
    "label_encoder = LabelEncoder()\n",
    "y_train = label_encoder.fit_transform(y_train)\n",
    "\n",
    "y_test = test.iloc[:,-1].values\n",
    "label_encoder = LabelEncoder()\n",
    "y_test = label_encoder.fit_transform(y_test)"
   ]
  },
  {
   "cell_type": "code",
   "execution_count": null,
   "metadata": {
    "scrolled": true
   },
   "outputs": [],
   "source": [
    "print (x_train.shape, y_train.shape)\n",
    "print (x_test.shape, y_test.shape)"
   ]
  },
  {
   "cell_type": "code",
   "execution_count": null,
   "metadata": {
    "scrolled": true
   },
   "outputs": [],
   "source": [
    "param= [(\"silent\", 1), (\"eta\", 0.08), (\"max_depth\", 6), (\"subsample\", 0.8),  (\"objective\", \"multi:softmax\"), (\"eval_metric\", \"merror\"), (\"num_class\", 3)]\n",
    "n_rounds = 50\n",
    "# early_stopping = 50\n",
    "    \n",
    "d_train = xgb.DMatrix(data = x_train, label = y_train)\n",
    "d_val = xgb.DMatrix(x_test, label=y_test)\n",
    "eval_list = [(d_train, \"train\"), (d_val, \"validation\")]\n",
    "bst = xgb.train(param, d_train, n_rounds, evals=eval_list, verbose_eval=True)"
   ]
  },
  {
   "cell_type": "code",
   "execution_count": null,
   "metadata": {},
   "outputs": [],
   "source": [
    "def plot_confusion_matrix(cm, classes,\n",
    "                          normalize=False,\n",
    "                          title='Confusion matrix',\n",
    "                          cmap=plt.cm.Blues):\n",
    "    \"\"\"\n",
    "    This function prints and plots the confusion matrix.\n",
    "    Normalization can be applied by setting `normalize=True`.\n",
    "    \"\"\"\n",
    "    if normalize:\n",
    "        cm = cm.astype('float') / cm.sum(axis=1)[:, np.newaxis]\n",
    "        print(\"Normalized confusion matrix\")\n",
    "    else:\n",
    "        print('Confusion matrix, without normalization')\n",
    "\n",
    "    print(cm)\n",
    "\n",
    "    plt.imshow(cm, interpolation='nearest', cmap=cmap)\n",
    "    plt.title(title)\n",
    "    plt.colorbar()\n",
    "    tick_marks = np.arange(len(classes))\n",
    "    plt.xticks(tick_marks, classes, rotation=45)\n",
    "    plt.yticks(tick_marks, classes)\n",
    "\n",
    "    fmt = '.2f' if normalize else 'd'\n",
    "    thresh = cm.max() / 2.\n",
    "    for i, j in itertools.product(range(cm.shape[0]), range(cm.shape[1])):\n",
    "        plt.text(j, i, format(cm[i, j], fmt),\n",
    "                 horizontalalignment=\"center\",\n",
    "                 color=\"white\" if cm[i, j] > thresh else \"black\")\n",
    "\n",
    "    plt.ylabel('True label')\n",
    "    plt.xlabel('Predicted label')\n",
    "    plt.tight_layout()"
   ]
  },
  {
   "cell_type": "code",
   "execution_count": null,
   "metadata": {},
   "outputs": [],
   "source": [
    "def result_analysis_xgb(df, test =1):\n",
    "    if test:\n",
    "        target = y_test\n",
    "        \n",
    "    else:\n",
    "        target = y_train\n",
    "   \n",
    "    d_test = xgb.DMatrix(data=x_test)\n",
    "    y_pred = bst.predict(d_test)\n",
    "    class_names=range(len(np.unique(y_train)))\n",
    "    \n",
    "    # Compute confusion matrix\n",
    "    cnf_matrix = confusion_matrix(target, y_pred)\n",
    "    np.set_printoptions(precision=2)\n",
    "\n",
    "    # Plot non-normalized confusion matrix\n",
    "    plt.figure()\n",
    "    plot_confusion_matrix(cnf_matrix, classes=class_names,\n",
    "                          title='Confusion matrix, without normalization');\n",
    "\n",
    "    # Plot normalized confusion matrix\n",
    "    plt.figure()\n",
    "    plot_confusion_matrix(cnf_matrix, classes=class_names, normalize=True,\n",
    "                          title='Normalized confusion matrix');\n",
    "\n",
    "    plt.show()\n",
    "    \n",
    "    normalized = cnf_matrix.astype('float') / cnf_matrix.sum(axis=1)[:, np.newaxis]\n",
    "    acc = np.sum(y_pred==target)/ len(target)\n",
    " #     print (normalized.diagonal())\n",
    "    print (f'Accuracy: {acc}')\n",
    "    \n",
    "result_analysis_xgb(x_test)"
   ]
  }
 ],
 "metadata": {
  "kernelspec": {
   "display_name": "Python 3",
   "language": "python",
   "name": "python3"
  },
  "language_info": {
   "codemirror_mode": {
    "name": "ipython",
    "version": 3
   },
   "file_extension": ".py",
   "mimetype": "text/x-python",
   "name": "python",
   "nbconvert_exporter": "python",
   "pygments_lexer": "ipython3",
   "version": "3.6.7"
  }
 },
 "nbformat": 4,
 "nbformat_minor": 2
}
