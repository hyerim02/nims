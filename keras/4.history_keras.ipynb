{
 "cells": [
  {
   "cell_type": "markdown",
   "metadata": {},
   "source": [
    "Keras에서는 모델 학습을 위해 fit() 함수를 사용한다. \n",
    "\n",
    "이 때, 리턴값으로 학습 이력(History) 정보를 리턴하고, 여기에는 다음과 같은 항목들이 포함되어 있다.\n",
    "\n",
    "아래 항목들은 매 epoch 마다의 값들이 저장되어 있다.\n",
    "\n",
    "-loss : 훈련 손실값\n",
    "\n",
    "-acc : 훈련 정확도\n",
    "\n",
    "-val_loss : 검증 손실값\n",
    "\n",
    "-val_acc : 검증 정확도"
   ]
  },
  {
   "cell_type": "markdown",
   "metadata": {},
   "source": [
    "## 모듈 import 부분"
   ]
  },
  {
   "cell_type": "code",
   "execution_count": 9,
   "metadata": {},
   "outputs": [],
   "source": [
    "# 기본 import\n",
    "import tensorflow \n",
    "import matplotlib.pyplot as plt\n",
    "%matplotlib inline\n",
    "\n",
    "# fashion-MNIST 데이터 import\n",
    "from tensorflow.keras.datasets import fashion_mnist\n",
    "from tensorflow.keras.utils import to_categorical\n",
    "\n",
    "# Keras MODEL 구축 import\n",
    "from tensorflow.keras.models import Sequential\n",
    "from tensorflow.keras.layers import Dense, Activation, Dropout\n",
    "\n",
    "# Keras MODEL 시각화 import\n",
    "from IPython.display import SVG\n",
    "from tensorflow.python.keras.utils.vis_utils import model_to_dot \n",
    "\n",
    "# # 무시\n",
    "# from jupyterthemes import jtplot \n",
    "# jtplot.style()\n",
    "\n",
    "# Kernel 튕김 방지\n",
    "import os\n",
    "os.environ['KMP_DUPLICATE_LIB_OK']='True'"
   ]
  },
  {
   "cell_type": "markdown",
   "metadata": {},
   "source": [
    "## 데이터 불러오기 및 전처리 과정"
   ]
  },
  {
   "cell_type": "code",
   "execution_count": 10,
   "metadata": {},
   "outputs": [
    {
     "name": "stdout",
     "output_type": "stream",
     "text": [
      "MNIST data loaded: train: 50000 test: 10000\n",
      "X_train: (50000, 28, 28)\n",
      "y_train: (60000,)\n",
      "Y_train: (50000, 10)\n",
      "X_val: (10000, 28, 28)\n",
      "Y_val: (10000, 10)\n"
     ]
    }
   ],
   "source": [
    "# 데이터 불러오기\n",
    "(X_train, y_train), (X_test, y_test) = fashion_mnist.load_data()\n",
    "\n",
    "# 클래스 갯수 \n",
    "nb_classes = 10\n",
    "\n",
    "# 데이터 전처리\n",
    "X_train = X_train.astype('float32')\n",
    "X_test = X_test.astype('float32')\n",
    "X_train /= 255\n",
    "X_test /= 255\n",
    "\n",
    "# one-hot encoding\n",
    "Y_train = to_categorical(y_train, nb_classes)\n",
    "Y_test = to_categorical(y_test, nb_classes)\n",
    "\n",
    "# training set & validate set \n",
    "X_val = X_train[50000:]\n",
    "X_train = X_train[:50000]\n",
    "Y_val = Y_train[50000:]\n",
    "Y_train = Y_train[:50000]\n",
    "\n",
    "print('MNIST data loaded: train:',len(X_train),'test:',len(X_test))\n",
    "print('X_train:', X_train.shape)\n",
    "print('y_train:', y_train.shape)\n",
    "print('Y_train:', Y_train.shape)\n",
    "print('X_val:', X_val.shape)\n",
    "print('Y_val:', Y_val.shape)"
   ]
  },
  {
   "cell_type": "markdown",
   "metadata": {},
   "source": [
    "# 모델 구성"
   ]
  },
  {
   "cell_type": "code",
   "execution_count": 11,
   "metadata": {},
   "outputs": [
    {
     "name": "stdout",
     "output_type": "stream",
     "text": [
      "_________________________________________________________________\n",
      "Layer (type)                 Output Shape              Param #   \n",
      "=================================================================\n",
      "dense_3 (Dense)              (None, 20)                15700     \n",
      "_________________________________________________________________\n",
      "activation_2 (Activation)    (None, 20)                0         \n",
      "_________________________________________________________________\n",
      "dense_4 (Dense)              (None, 50)                1050      \n",
      "_________________________________________________________________\n",
      "activation_3 (Activation)    (None, 50)                0         \n",
      "_________________________________________________________________\n",
      "dense_5 (Dense)              (None, 10)                510       \n",
      "=================================================================\n",
      "Total params: 17,260\n",
      "Trainable params: 17,260\n",
      "Non-trainable params: 0\n",
      "_________________________________________________________________\n",
      "None\n"
     ]
    }
   ],
   "source": [
    "model = Sequential()\n",
    "# Dense\n",
    "model.add(Dense(units=20, input_dim=28*28))\n",
    "model.add(Activation('relu'))\n",
    "model.add(Dense(units=50, input_dim=28*28))\n",
    "model.add(Activation('relu'))\n",
    "model.add(Dense(units=10, activation='softmax'))\n",
    "\n",
    "# 모델 컴파일 -> loss function, optimizer 설정\n",
    "model.compile(loss='categorical_crossentropy', \n",
    "              optimizer='sgd', \n",
    "              metrics=['accuracy'])\n",
    "print(model.summary())"
   ]
  },
  {
   "cell_type": "markdown",
   "metadata": {},
   "source": [
    "## 모델 학습"
   ]
  },
  {
   "cell_type": "code",
   "execution_count": 13,
   "metadata": {
    "scrolled": true
   },
   "outputs": [
    {
     "name": "stdout",
     "output_type": "stream",
     "text": [
      "Train on 50000 samples, validate on 10000 samples\n",
      "Epoch 1/5\n",
      "50000/50000 [==============================] - 4s 87us/step - loss: 0.9052 - acc: 0.6937 - val_loss: 0.6099 - val_acc: 0.7799\n",
      "Epoch 2/5\n",
      "50000/50000 [==============================] - 4s 78us/step - loss: 0.5543 - acc: 0.8073 - val_loss: 0.5382 - val_acc: 0.8150\n",
      "Epoch 3/5\n",
      "50000/50000 [==============================] - 4s 78us/step - loss: 0.4956 - acc: 0.8260 - val_loss: 0.4818 - val_acc: 0.8264\n",
      "Epoch 4/5\n",
      "50000/50000 [==============================] - 4s 76us/step - loss: 0.4653 - acc: 0.8388 - val_loss: 0.5099 - val_acc: 0.8192\n",
      "Epoch 5/5\n",
      "50000/50000 [==============================] - 4s 77us/step - loss: 0.4450 - acc: 0.8453 - val_loss: 0.4568 - val_acc: 0.8408\n"
     ]
    }
   ],
   "source": [
    "epochs = 5 # one epoch takes about 3 seconds\n",
    "from tensorflow.keras.callbacks import EarlyStopping\n",
    "early_stopping = EarlyStopping(patience = 3) \n",
    "hist = model.fit(X_train.reshape((-1,28*28)), \n",
    "                          Y_train, \n",
    "                          epochs=epochs, \n",
    "                          batch_size=32,\n",
    "                          callbacks=[early_stopping],\n",
    "                          validation_data=(X_val.reshape((-1,28*28)), Y_val))"
   ]
  },
  {
   "cell_type": "markdown",
   "metadata": {},
   "source": [
    "# History_Keras"
   ]
  },
  {
   "cell_type": "code",
   "execution_count": 18,
   "metadata": {},
   "outputs": [
    {
     "name": "stdout",
     "output_type": "stream",
     "text": [
      "[0.905215750541687, 0.5543488029289245, 0.49557221295833587, 0.46528187041282654, 0.44501733845233915]\n",
      "[0.6937, 0.80732, 0.826, 0.83882, 0.84532]\n",
      "[0.6099221526145935, 0.5382364521980285, 0.4818442988395691, 0.5099319715499878, 0.45682310342788696]\n",
      "[0.7799, 0.815, 0.8264, 0.8192, 0.8408]\n"
     ]
    }
   ],
   "source": [
    "# 4가지 값들 출력하기\n",
    "\n",
    "print(hist.history['loss'])\n",
    "print(hist.history['acc'])\n",
    "print(hist.history['val_loss'])\n",
    "print(hist.history['val_acc'])"
   ]
  },
  {
   "cell_type": "code",
   "execution_count": 16,
   "metadata": {
    "scrolled": true
   },
   "outputs": [
    {
     "data": {
      "image/png": "[encoded data removed]",
      "text/plain": [
       "<Figure size 432x288 with 2 Axes>"
      ]
     },
     "metadata": {
      "needs_background": "light"
     },
     "output_type": "display_data"
    }
   ],
   "source": [
    "# 학습결과 확인하기\n",
    "\n",
    "fig, loss_ax = plt.subplots()\n",
    "\n",
    "acc_ax = loss_ax.twinx()\n",
    "\n",
    "loss_ax.plot(hist.history['loss'], 'y', label='train loss')\n",
    "loss_ax.plot(hist.history['val_loss'], 'r', label='val loss')\n",
    "\n",
    "acc_ax.plot(hist.history['acc'], 'b', label='train acc')\n",
    "acc_ax.plot(hist.history['val_acc'], 'g', label='val acc')\n",
    "\n",
    "loss_ax.set_xlabel('epoch')\n",
    "loss_ax.set_ylabel('loss')\n",
    "acc_ax.set_ylabel('accuray')\n",
    "\n",
    "loss_ax.legend(loc='upper left')\n",
    "acc_ax.legend(loc='lower left')\n",
    "\n",
    "plt.show()"
   ]
  },
  {
   "cell_type": "code",
   "execution_count": null,
   "metadata": {},
   "outputs": [],
   "source": []
  }
 ],
 "metadata": {
  "kernelspec": {
   "display_name": "Python 3",
   "language": "python",
   "name": "python3"
  },
  "language_info": {
   "codemirror_mode": {
    "name": "ipython",
    "version": 3
   },
   "file_extension": ".py",
   "mimetype": "text/x-python",
   "name": "python",
   "nbconvert_exporter": "python",
   "pygments_lexer": "ipython3",
   "version": "3.6.7"
  },
  "toc": {
   "base_numbering": 1,
   "nav_menu": {},
   "number_sections": true,
   "sideBar": true,
   "skip_h1_title": false,
   "title_cell": "Table of Contents",
   "title_sidebar": "Contents",
   "toc_cell": false,
   "toc_position": {},
   "toc_section_display": true,
   "toc_window_display": false
  },
  "varInspector": {
   "cols": {
    "lenName": 16,
    "lenType": 16,
    "lenVar": 40
   },
   "kernels_config": {
    "python": {
     "delete_cmd_postfix": "",
     "delete_cmd_prefix": "del ",
     "library": "var_list.py",
     "varRefreshCmd": "print(var_dic_list())"
    },
    "r": {
     "delete_cmd_postfix": ") ",
     "delete_cmd_prefix": "rm(",
     "library": "var_list.r",
     "varRefreshCmd": "cat(var_dic_list()) "
    }
   },
   "types_to_exclude": [
    "module",
    "function",
    "builtin_function_or_method",
    "instance",
    "_Feature"
   ],
   "window_display": false
  }
 },
 "nbformat": 4,
 "nbformat_minor": 2
}
