{
 "cells": [
  {
   "cell_type": "code",
   "execution_count": 1,
   "metadata": {},
   "outputs": [],
   "source": [
    "# 기본 import\n",
    "import tensorflow \n",
    "import numpy as np\n",
    "import matplotlib.pyplot as plt\n",
    "import seaborn as sns\n",
    "sns.set()\n",
    "%matplotlib inline\n",
    "\n",
    "# fashion-MNIST 데이터 import\n",
    "from tensorflow.keras.datasets import fashion_mnist\n",
    "from tensorflow.keras.utils import to_categorical\n",
    "\n",
    "# Keras MODEL 구축 import\n",
    "from tensorflow.keras.models import Sequential\n",
    "from tensorflow.keras.layers import Dense, Activation, Dropout\n",
    "\n",
    "# Keras MODEL 시각화 import\n",
    "from IPython.display import SVG\n",
    "from tensorflow.python.keras.utils.vis_utils import model_to_dot \n",
    "\n",
    "# # 무시\n",
    "# from jupyterthemes import jtplot \n",
    "# jtplot.style()"
   ]
  },
  {
   "cell_type": "markdown",
   "metadata": {},
   "source": [
    "# 1. 데이터 생성"
   ]
  },
  {
   "cell_type": "code",
   "execution_count": 2,
   "metadata": {},
   "outputs": [
    {
     "name": "stdout",
     "output_type": "stream",
     "text": [
      "MNIST data loaded: train: 50000 test: 10000\n",
      "X_train: (50000, 28, 28)\n",
      "y_train: (60000,)\n",
      "Y_train: (50000, 10)\n",
      "X_val: (10000, 28, 28)\n",
      "Y_val: (10000, 10)\n"
     ]
    }
   ],
   "source": [
    "# 데이터 불러오기\n",
    "(X_train, y_train), (X_test, y_test) = fashion_mnist.load_data()\n",
    "\n",
    "# 클래스 갯수 \n",
    "nb_classes = 10\n",
    "\n",
    "# 데이터 전처리\n",
    "X_train = X_train.astype('float32')\n",
    "X_test = X_test.astype('float32')\n",
    "X_train /= 255\n",
    "X_test /= 255\n",
    "\n",
    "# one-hot encoding\n",
    "Y_train = to_categorical(y_train, nb_classes)\n",
    "Y_test = to_categorical(y_test, nb_classes)\n",
    "\n",
    "# training set & validate set \n",
    "X_val = X_train[50000:]\n",
    "X_train = X_train[:50000]\n",
    "Y_val = Y_train[50000:]\n",
    "Y_train = Y_train[:50000]\n",
    "\n",
    "print('MNIST data loaded: train:',len(X_train),'test:',len(X_test))\n",
    "print('X_train:', X_train.shape)\n",
    "print('y_train:', y_train.shape)\n",
    "print('Y_train:', Y_train.shape)\n",
    "print('X_val:', X_val.shape)\n",
    "print('Y_val:', Y_val.shape)"
   ]
  },
  {
   "cell_type": "markdown",
   "metadata": {},
   "source": [
    "# 2. 모델 구축"
   ]
  },
  {
   "cell_type": "code",
   "execution_count": 3,
   "metadata": {
    "scrolled": true
   },
   "outputs": [
    {
     "name": "stdout",
     "output_type": "stream",
     "text": [
      "_________________________________________________________________\n",
      "Layer (type)                 Output Shape              Param #   \n",
      "=================================================================\n",
      "dense (Dense)                (None, 10)                7850      \n",
      "_________________________________________________________________\n",
      "activation (Activation)      (None, 10)                0         \n",
      "_________________________________________________________________\n",
      "dense_1 (Dense)              (None, 20)                220       \n",
      "_________________________________________________________________\n",
      "activation_1 (Activation)    (None, 20)                0         \n",
      "_________________________________________________________________\n",
      "dense_2 (Dense)              (None, 20)                420       \n",
      "_________________________________________________________________\n",
      "activation_2 (Activation)    (None, 20)                0         \n",
      "_________________________________________________________________\n",
      "dense_3 (Dense)              (None, 10)                210       \n",
      "_________________________________________________________________\n",
      "activation_3 (Activation)    (None, 10)                0         \n",
      "_________________________________________________________________\n",
      "dense_4 (Dense)              (None, 10)                110       \n",
      "=================================================================\n",
      "Total params: 8,810\n",
      "Trainable params: 8,810\n",
      "Non-trainable params: 0\n",
      "_________________________________________________________________\n",
      "None\n"
     ]
    }
   ],
   "source": [
    "multilayer_model = Sequential()\n",
    "\n",
    "multilayer_model.add(Dense(units=10, input_dim=28*28))\n",
    "multilayer_model.add(Activation('relu'))\n",
    "\n",
    "multilayer_model.add(Dense(units=20))\n",
    "multilayer_model.add(Activation('relu'))\n",
    "\n",
    "multilayer_model.add(Dense(units=20))\n",
    "multilayer_model.add(Activation('relu'))\n",
    "\n",
    "multilayer_model.add(Dense(units=10))\n",
    "multilayer_model.add(Activation('relu'))\n",
    "\n",
    "multilayer_model.add(Dense(units=10, activation='softmax'))\n",
    "\n",
    "\n",
    "multilayer_model.compile(loss='categorical_crossentropy', \n",
    "              optimizer='adam', \n",
    "              metrics=['accuracy'])\n",
    "print(multilayer_model.summary())"
   ]
  },
  {
   "cell_type": "markdown",
   "metadata": {},
   "source": [
    "## 2-1 SVG 모듈을 활용하여 모델 구성 확인"
   ]
  },
  {
   "cell_type": "code",
   "execution_count": 4,
   "metadata": {},
   "outputs": [
    {
     "data": {
      "image/svg+xml": [
       "<svg height=\"792pt\" viewBox=\"0.00 0.00 293.00 792.00\" width=\"293pt\" xmlns=\"http://www.w3.org/2000/svg\" xmlns:xlink=\"http://www.w3.org/1999/xlink\">\n",
       "<g class=\"graph\" id=\"graph0\" transform=\"scale(1 1) rotate(0) translate(4 788)\">\n",
       "<title>G</title>\n",
       "<polygon fill=\"#ffffff\" points=\"-4,4 -4,-788 289,-788 289,4 -4,4\" stroke=\"transparent\"/>\n",
       "<!-- 112722487560 -->\n",
       "<g class=\"node\" id=\"node1\">\n",
       "<title>112722487560</title>\n",
       "<polygon fill=\"none\" points=\"27,-664.5 27,-710.5 258,-710.5 258,-664.5 27,-664.5\" stroke=\"#000000\"/>\n",
       "<text fill=\"#000000\" font-family=\"Times,serif\" font-size=\"14.00\" text-anchor=\"middle\" x=\"72.5\" y=\"-683.8\">dense: Dense</text>\n",
       "<polyline fill=\"none\" points=\"118,-664.5 118,-710.5 \" stroke=\"#000000\"/>\n",
       "<text fill=\"#000000\" font-family=\"Times,serif\" font-size=\"14.00\" text-anchor=\"middle\" x=\"146\" y=\"-695.3\">input:</text>\n",
       "<polyline fill=\"none\" points=\"118,-687.5 174,-687.5 \" stroke=\"#000000\"/>\n",
       "<text fill=\"#000000\" font-family=\"Times,serif\" font-size=\"14.00\" text-anchor=\"middle\" x=\"146\" y=\"-672.3\">output:</text>\n",
       "<polyline fill=\"none\" points=\"174,-664.5 174,-710.5 \" stroke=\"#000000\"/>\n",
       "<text fill=\"#000000\" font-family=\"Times,serif\" font-size=\"14.00\" text-anchor=\"middle\" x=\"216\" y=\"-695.3\">(None, 784)</text>\n",
       "<polyline fill=\"none\" points=\"174,-687.5 258,-687.5 \" stroke=\"#000000\"/>\n",
       "<text fill=\"#000000\" font-family=\"Times,serif\" font-size=\"14.00\" text-anchor=\"middle\" x=\"216\" y=\"-672.3\">(None, 10)</text>\n",
       "</g>\n",
       "<!-- 112722488624 -->\n",
       "<g class=\"node\" id=\"node2\">\n",
       "<title>112722488624</title>\n",
       "<polygon fill=\"none\" points=\"7,-581.5 7,-627.5 278,-627.5 278,-581.5 7,-581.5\" stroke=\"#000000\"/>\n",
       "<text fill=\"#000000\" font-family=\"Times,serif\" font-size=\"14.00\" text-anchor=\"middle\" x=\"76\" y=\"-600.8\">activation: Activation</text>\n",
       "<polyline fill=\"none\" points=\"145,-581.5 145,-627.5 \" stroke=\"#000000\"/>\n",
       "<text fill=\"#000000\" font-family=\"Times,serif\" font-size=\"14.00\" text-anchor=\"middle\" x=\"173\" y=\"-612.3\">input:</text>\n",
       "<polyline fill=\"none\" points=\"145,-604.5 201,-604.5 \" stroke=\"#000000\"/>\n",
       "<text fill=\"#000000\" font-family=\"Times,serif\" font-size=\"14.00\" text-anchor=\"middle\" x=\"173\" y=\"-589.3\">output:</text>\n",
       "<polyline fill=\"none\" points=\"201,-581.5 201,-627.5 \" stroke=\"#000000\"/>\n",
       "<text fill=\"#000000\" font-family=\"Times,serif\" font-size=\"14.00\" text-anchor=\"middle\" x=\"239.5\" y=\"-612.3\">(None, 10)</text>\n",
       "<polyline fill=\"none\" points=\"201,-604.5 278,-604.5 \" stroke=\"#000000\"/>\n",
       "<text fill=\"#000000\" font-family=\"Times,serif\" font-size=\"14.00\" text-anchor=\"middle\" x=\"239.5\" y=\"-589.3\">(None, 10)</text>\n",
       "</g>\n",
       "<!-- 112722487560&#45;&gt;112722488624 -->\n",
       "<g class=\"edge\" id=\"edge2\">\n",
       "<title>112722487560-&gt;112722488624</title>\n",
       "<path d=\"M142.5,-664.3799C142.5,-656.1745 142.5,-646.7679 142.5,-637.8786\" fill=\"none\" stroke=\"#000000\"/>\n",
       "<polygon fill=\"#000000\" points=\"146.0001,-637.784 142.5,-627.784 139.0001,-637.784 146.0001,-637.784\" stroke=\"#000000\"/>\n",
       "</g>\n",
       "<!-- 5221088952 -->\n",
       "<g class=\"node\" id=\"node3\">\n",
       "<title>5221088952</title>\n",
       "<polygon fill=\"none\" points=\"23.5,-498.5 23.5,-544.5 261.5,-544.5 261.5,-498.5 23.5,-498.5\" stroke=\"#000000\"/>\n",
       "<text fill=\"#000000\" font-family=\"Times,serif\" font-size=\"14.00\" text-anchor=\"middle\" x=\"76\" y=\"-517.8\">dense_1: Dense</text>\n",
       "<polyline fill=\"none\" points=\"128.5,-498.5 128.5,-544.5 \" stroke=\"#000000\"/>\n",
       "<text fill=\"#000000\" font-family=\"Times,serif\" font-size=\"14.00\" text-anchor=\"middle\" x=\"156.5\" y=\"-529.3\">input:</text>\n",
       "<polyline fill=\"none\" points=\"128.5,-521.5 184.5,-521.5 \" stroke=\"#000000\"/>\n",
       "<text fill=\"#000000\" font-family=\"Times,serif\" font-size=\"14.00\" text-anchor=\"middle\" x=\"156.5\" y=\"-506.3\">output:</text>\n",
       "<polyline fill=\"none\" points=\"184.5,-498.5 184.5,-544.5 \" stroke=\"#000000\"/>\n",
       "<text fill=\"#000000\" font-family=\"Times,serif\" font-size=\"14.00\" text-anchor=\"middle\" x=\"223\" y=\"-529.3\">(None, 10)</text>\n",
       "<polyline fill=\"none\" points=\"184.5,-521.5 261.5,-521.5 \" stroke=\"#000000\"/>\n",
       "<text fill=\"#000000\" font-family=\"Times,serif\" font-size=\"14.00\" text-anchor=\"middle\" x=\"223\" y=\"-506.3\">(None, 20)</text>\n",
       "</g>\n",
       "<!-- 112722488624&#45;&gt;5221088952 -->\n",
       "<g class=\"edge\" id=\"edge3\">\n",
       "<title>112722488624-&gt;5221088952</title>\n",
       "<path d=\"M142.5,-581.3799C142.5,-573.1745 142.5,-563.7679 142.5,-554.8786\" fill=\"none\" stroke=\"#000000\"/>\n",
       "<polygon fill=\"#000000\" points=\"146.0001,-554.784 142.5,-544.784 139.0001,-554.784 146.0001,-554.784\" stroke=\"#000000\"/>\n",
       "</g>\n",
       "<!-- 112966042904 -->\n",
       "<g class=\"node\" id=\"node4\">\n",
       "<title>112966042904</title>\n",
       "<polygon fill=\"none\" points=\"0,-415.5 0,-461.5 285,-461.5 285,-415.5 0,-415.5\" stroke=\"#000000\"/>\n",
       "<text fill=\"#000000\" font-family=\"Times,serif\" font-size=\"14.00\" text-anchor=\"middle\" x=\"76\" y=\"-434.8\">activation_1: Activation</text>\n",
       "<polyline fill=\"none\" points=\"152,-415.5 152,-461.5 \" stroke=\"#000000\"/>\n",
       "<text fill=\"#000000\" font-family=\"Times,serif\" font-size=\"14.00\" text-anchor=\"middle\" x=\"180\" y=\"-446.3\">input:</text>\n",
       "<polyline fill=\"none\" points=\"152,-438.5 208,-438.5 \" stroke=\"#000000\"/>\n",
       "<text fill=\"#000000\" font-family=\"Times,serif\" font-size=\"14.00\" text-anchor=\"middle\" x=\"180\" y=\"-423.3\">output:</text>\n",
       "<polyline fill=\"none\" points=\"208,-415.5 208,-461.5 \" stroke=\"#000000\"/>\n",
       "<text fill=\"#000000\" font-family=\"Times,serif\" font-size=\"14.00\" text-anchor=\"middle\" x=\"246.5\" y=\"-446.3\">(None, 20)</text>\n",
       "<polyline fill=\"none\" points=\"208,-438.5 285,-438.5 \" stroke=\"#000000\"/>\n",
       "<text fill=\"#000000\" font-family=\"Times,serif\" font-size=\"14.00\" text-anchor=\"middle\" x=\"246.5\" y=\"-423.3\">(None, 20)</text>\n",
       "</g>\n",
       "<!-- 5221088952&#45;&gt;112966042904 -->\n",
       "<g class=\"edge\" id=\"edge4\">\n",
       "<title>5221088952-&gt;112966042904</title>\n",
       "<path d=\"M142.5,-498.3799C142.5,-490.1745 142.5,-480.7679 142.5,-471.8786\" fill=\"none\" stroke=\"#000000\"/>\n",
       "<polygon fill=\"#000000\" points=\"146.0001,-471.784 142.5,-461.784 139.0001,-471.784 146.0001,-471.784\" stroke=\"#000000\"/>\n",
       "</g>\n",
       "<!-- 112966043856 -->\n",
       "<g class=\"node\" id=\"node5\">\n",
       "<title>112966043856</title>\n",
       "<polygon fill=\"none\" points=\"23.5,-332.5 23.5,-378.5 261.5,-378.5 261.5,-332.5 23.5,-332.5\" stroke=\"#000000\"/>\n",
       "<text fill=\"#000000\" font-family=\"Times,serif\" font-size=\"14.00\" text-anchor=\"middle\" x=\"76\" y=\"-351.8\">dense_2: Dense</text>\n",
       "<polyline fill=\"none\" points=\"128.5,-332.5 128.5,-378.5 \" stroke=\"#000000\"/>\n",
       "<text fill=\"#000000\" font-family=\"Times,serif\" font-size=\"14.00\" text-anchor=\"middle\" x=\"156.5\" y=\"-363.3\">input:</text>\n",
       "<polyline fill=\"none\" points=\"128.5,-355.5 184.5,-355.5 \" stroke=\"#000000\"/>\n",
       "<text fill=\"#000000\" font-family=\"Times,serif\" font-size=\"14.00\" text-anchor=\"middle\" x=\"156.5\" y=\"-340.3\">output:</text>\n",
       "<polyline fill=\"none\" points=\"184.5,-332.5 184.5,-378.5 \" stroke=\"#000000\"/>\n",
       "<text fill=\"#000000\" font-family=\"Times,serif\" font-size=\"14.00\" text-anchor=\"middle\" x=\"223\" y=\"-363.3\">(None, 20)</text>\n",
       "<polyline fill=\"none\" points=\"184.5,-355.5 261.5,-355.5 \" stroke=\"#000000\"/>\n",
       "<text fill=\"#000000\" font-family=\"Times,serif\" font-size=\"14.00\" text-anchor=\"middle\" x=\"223\" y=\"-340.3\">(None, 20)</text>\n",
       "</g>\n",
       "<!-- 112966042904&#45;&gt;112966043856 -->\n",
       "<g class=\"edge\" id=\"edge5\">\n",
       "<title>112966042904-&gt;112966043856</title>\n",
       "<path d=\"M142.5,-415.3799C142.5,-407.1745 142.5,-397.7679 142.5,-388.8786\" fill=\"none\" stroke=\"#000000\"/>\n",
       "<polygon fill=\"#000000\" points=\"146.0001,-388.784 142.5,-378.784 139.0001,-388.784 146.0001,-388.784\" stroke=\"#000000\"/>\n",
       "</g>\n",
       "<!-- 112966188448 -->\n",
       "<g class=\"node\" id=\"node6\">\n",
       "<title>112966188448</title>\n",
       "<polygon fill=\"none\" points=\"0,-249.5 0,-295.5 285,-295.5 285,-249.5 0,-249.5\" stroke=\"#000000\"/>\n",
       "<text fill=\"#000000\" font-family=\"Times,serif\" font-size=\"14.00\" text-anchor=\"middle\" x=\"76\" y=\"-268.8\">activation_2: Activation</text>\n",
       "<polyline fill=\"none\" points=\"152,-249.5 152,-295.5 \" stroke=\"#000000\"/>\n",
       "<text fill=\"#000000\" font-family=\"Times,serif\" font-size=\"14.00\" text-anchor=\"middle\" x=\"180\" y=\"-280.3\">input:</text>\n",
       "<polyline fill=\"none\" points=\"152,-272.5 208,-272.5 \" stroke=\"#000000\"/>\n",
       "<text fill=\"#000000\" font-family=\"Times,serif\" font-size=\"14.00\" text-anchor=\"middle\" x=\"180\" y=\"-257.3\">output:</text>\n",
       "<polyline fill=\"none\" points=\"208,-249.5 208,-295.5 \" stroke=\"#000000\"/>\n",
       "<text fill=\"#000000\" font-family=\"Times,serif\" font-size=\"14.00\" text-anchor=\"middle\" x=\"246.5\" y=\"-280.3\">(None, 20)</text>\n",
       "<polyline fill=\"none\" points=\"208,-272.5 285,-272.5 \" stroke=\"#000000\"/>\n",
       "<text fill=\"#000000\" font-family=\"Times,serif\" font-size=\"14.00\" text-anchor=\"middle\" x=\"246.5\" y=\"-257.3\">(None, 20)</text>\n",
       "</g>\n",
       "<!-- 112966043856&#45;&gt;112966188448 -->\n",
       "<g class=\"edge\" id=\"edge6\">\n",
       "<title>112966043856-&gt;112966188448</title>\n",
       "<path d=\"M142.5,-332.3799C142.5,-324.1745 142.5,-314.7679 142.5,-305.8786\" fill=\"none\" stroke=\"#000000\"/>\n",
       "<polygon fill=\"#000000\" points=\"146.0001,-305.784 142.5,-295.784 139.0001,-305.784 146.0001,-305.784\" stroke=\"#000000\"/>\n",
       "</g>\n",
       "<!-- 112966385168 -->\n",
       "<g class=\"node\" id=\"node7\">\n",
       "<title>112966385168</title>\n",
       "<polygon fill=\"none\" points=\"23.5,-166.5 23.5,-212.5 261.5,-212.5 261.5,-166.5 23.5,-166.5\" stroke=\"#000000\"/>\n",
       "<text fill=\"#000000\" font-family=\"Times,serif\" font-size=\"14.00\" text-anchor=\"middle\" x=\"76\" y=\"-185.8\">dense_3: Dense</text>\n",
       "<polyline fill=\"none\" points=\"128.5,-166.5 128.5,-212.5 \" stroke=\"#000000\"/>\n",
       "<text fill=\"#000000\" font-family=\"Times,serif\" font-size=\"14.00\" text-anchor=\"middle\" x=\"156.5\" y=\"-197.3\">input:</text>\n",
       "<polyline fill=\"none\" points=\"128.5,-189.5 184.5,-189.5 \" stroke=\"#000000\"/>\n",
       "<text fill=\"#000000\" font-family=\"Times,serif\" font-size=\"14.00\" text-anchor=\"middle\" x=\"156.5\" y=\"-174.3\">output:</text>\n",
       "<polyline fill=\"none\" points=\"184.5,-166.5 184.5,-212.5 \" stroke=\"#000000\"/>\n",
       "<text fill=\"#000000\" font-family=\"Times,serif\" font-size=\"14.00\" text-anchor=\"middle\" x=\"223\" y=\"-197.3\">(None, 20)</text>\n",
       "<polyline fill=\"none\" points=\"184.5,-189.5 261.5,-189.5 \" stroke=\"#000000\"/>\n",
       "<text fill=\"#000000\" font-family=\"Times,serif\" font-size=\"14.00\" text-anchor=\"middle\" x=\"223\" y=\"-174.3\">(None, 10)</text>\n",
       "</g>\n",
       "<!-- 112966188448&#45;&gt;112966385168 -->\n",
       "<g class=\"edge\" id=\"edge7\">\n",
       "<title>112966188448-&gt;112966385168</title>\n",
       "<path d=\"M142.5,-249.3799C142.5,-241.1745 142.5,-231.7679 142.5,-222.8786\" fill=\"none\" stroke=\"#000000\"/>\n",
       "<polygon fill=\"#000000\" points=\"146.0001,-222.784 142.5,-212.784 139.0001,-222.784 146.0001,-222.784\" stroke=\"#000000\"/>\n",
       "</g>\n",
       "<!-- 112966381640 -->\n",
       "<g class=\"node\" id=\"node8\">\n",
       "<title>112966381640</title>\n",
       "<polygon fill=\"none\" points=\"0,-83.5 0,-129.5 285,-129.5 285,-83.5 0,-83.5\" stroke=\"#000000\"/>\n",
       "<text fill=\"#000000\" font-family=\"Times,serif\" font-size=\"14.00\" text-anchor=\"middle\" x=\"76\" y=\"-102.8\">activation_3: Activation</text>\n",
       "<polyline fill=\"none\" points=\"152,-83.5 152,-129.5 \" stroke=\"#000000\"/>\n",
       "<text fill=\"#000000\" font-family=\"Times,serif\" font-size=\"14.00\" text-anchor=\"middle\" x=\"180\" y=\"-114.3\">input:</text>\n",
       "<polyline fill=\"none\" points=\"152,-106.5 208,-106.5 \" stroke=\"#000000\"/>\n",
       "<text fill=\"#000000\" font-family=\"Times,serif\" font-size=\"14.00\" text-anchor=\"middle\" x=\"180\" y=\"-91.3\">output:</text>\n",
       "<polyline fill=\"none\" points=\"208,-83.5 208,-129.5 \" stroke=\"#000000\"/>\n",
       "<text fill=\"#000000\" font-family=\"Times,serif\" font-size=\"14.00\" text-anchor=\"middle\" x=\"246.5\" y=\"-114.3\">(None, 10)</text>\n",
       "<polyline fill=\"none\" points=\"208,-106.5 285,-106.5 \" stroke=\"#000000\"/>\n",
       "<text fill=\"#000000\" font-family=\"Times,serif\" font-size=\"14.00\" text-anchor=\"middle\" x=\"246.5\" y=\"-91.3\">(None, 10)</text>\n",
       "</g>\n",
       "<!-- 112966385168&#45;&gt;112966381640 -->\n",
       "<g class=\"edge\" id=\"edge8\">\n",
       "<title>112966385168-&gt;112966381640</title>\n",
       "<path d=\"M142.5,-166.3799C142.5,-158.1745 142.5,-148.7679 142.5,-139.8786\" fill=\"none\" stroke=\"#000000\"/>\n",
       "<polygon fill=\"#000000\" points=\"146.0001,-139.784 142.5,-129.784 139.0001,-139.784 146.0001,-139.784\" stroke=\"#000000\"/>\n",
       "</g>\n",
       "<!-- 112966493072 -->\n",
       "<g class=\"node\" id=\"node9\">\n",
       "<title>112966493072</title>\n",
       "<polygon fill=\"none\" points=\"23.5,-.5 23.5,-46.5 261.5,-46.5 261.5,-.5 23.5,-.5\" stroke=\"#000000\"/>\n",
       "<text fill=\"#000000\" font-family=\"Times,serif\" font-size=\"14.00\" text-anchor=\"middle\" x=\"76\" y=\"-19.8\">dense_4: Dense</text>\n",
       "<polyline fill=\"none\" points=\"128.5,-.5 128.5,-46.5 \" stroke=\"#000000\"/>\n",
       "<text fill=\"#000000\" font-family=\"Times,serif\" font-size=\"14.00\" text-anchor=\"middle\" x=\"156.5\" y=\"-31.3\">input:</text>\n",
       "<polyline fill=\"none\" points=\"128.5,-23.5 184.5,-23.5 \" stroke=\"#000000\"/>\n",
       "<text fill=\"#000000\" font-family=\"Times,serif\" font-size=\"14.00\" text-anchor=\"middle\" x=\"156.5\" y=\"-8.3\">output:</text>\n",
       "<polyline fill=\"none\" points=\"184.5,-.5 184.5,-46.5 \" stroke=\"#000000\"/>\n",
       "<text fill=\"#000000\" font-family=\"Times,serif\" font-size=\"14.00\" text-anchor=\"middle\" x=\"223\" y=\"-31.3\">(None, 10)</text>\n",
       "<polyline fill=\"none\" points=\"184.5,-23.5 261.5,-23.5 \" stroke=\"#000000\"/>\n",
       "<text fill=\"#000000\" font-family=\"Times,serif\" font-size=\"14.00\" text-anchor=\"middle\" x=\"223\" y=\"-8.3\">(None, 10)</text>\n",
       "</g>\n",
       "<!-- 112966381640&#45;&gt;112966493072 -->\n",
       "<g class=\"edge\" id=\"edge9\">\n",
       "<title>112966381640-&gt;112966493072</title>\n",
       "<path d=\"M142.5,-83.3799C142.5,-75.1745 142.5,-65.7679 142.5,-56.8786\" fill=\"none\" stroke=\"#000000\"/>\n",
       "<polygon fill=\"#000000\" points=\"146.0001,-56.784 142.5,-46.784 139.0001,-56.784 146.0001,-56.784\" stroke=\"#000000\"/>\n",
       "</g>\n",
       "<!-- 112722489128 -->\n",
       "<g class=\"node\" id=\"node10\">\n",
       "<title>112722489128</title>\n",
       "<polygon fill=\"none\" points=\"92,-747.5 92,-783.5 193,-783.5 193,-747.5 92,-747.5\" stroke=\"#000000\"/>\n",
       "<text fill=\"#000000\" font-family=\"Times,serif\" font-size=\"14.00\" text-anchor=\"middle\" x=\"142.5\" y=\"-761.8\">112722489128</text>\n",
       "</g>\n",
       "<!-- 112722489128&#45;&gt;112722487560 -->\n",
       "<g class=\"edge\" id=\"edge1\">\n",
       "<title>112722489128-&gt;112722487560</title>\n",
       "<path d=\"M142.5,-747.4092C142.5,-739.4308 142.5,-729.795 142.5,-720.606\" fill=\"none\" stroke=\"#000000\"/>\n",
       "<polygon fill=\"#000000\" points=\"146.0001,-720.5333 142.5,-710.5333 139.0001,-720.5334 146.0001,-720.5333\" stroke=\"#000000\"/>\n",
       "</g>\n",
       "</g>\n",
       "</svg>"
      ],
      "text/plain": [
       "<IPython.core.display.SVG object>"
      ]
     },
     "execution_count": 4,
     "metadata": {},
     "output_type": "execute_result"
    }
   ],
   "source": [
    "SVG(model_to_dot(multilayer_model, show_shapes=True).create(prog='dot', format='svg'))"
   ]
  },
  {
   "cell_type": "markdown",
   "metadata": {},
   "source": [
    "# 3. 모델 학습"
   ]
  },
  {
   "cell_type": "code",
   "execution_count": 5,
   "metadata": {
    "scrolled": true
   },
   "outputs": [
    {
     "name": "stdout",
     "output_type": "stream",
     "text": [
      "Train on 50000 samples, validate on 10000 samples\n",
      "Epoch 1/10\n",
      "50000/50000 [==============================] - 3s 55us/step - loss: 0.9337 - acc: 0.6515 - val_loss: 0.5853 - val_acc: 0.7912\n",
      "Epoch 2/10\n",
      "50000/50000 [==============================] - 2s 34us/step - loss: 0.5036 - acc: 0.8213 - val_loss: 0.5035 - val_acc: 0.8214\n",
      "Epoch 3/10\n",
      "50000/50000 [==============================] - 2s 35us/step - loss: 0.4574 - acc: 0.8376 - val_loss: 0.4535 - val_acc: 0.8400\n",
      "Epoch 4/10\n",
      "50000/50000 [==============================] - 2s 34us/step - loss: 0.4336 - acc: 0.8452 - val_loss: 0.4366 - val_acc: 0.8427\n",
      "Epoch 5/10\n",
      "50000/50000 [==============================] - 2s 34us/step - loss: 0.4157 - acc: 0.8511 - val_loss: 0.4349 - val_acc: 0.8461\n",
      "Epoch 6/10\n",
      "50000/50000 [==============================] - 2s 34us/step - loss: 0.4058 - acc: 0.8529 - val_loss: 0.4288 - val_acc: 0.8461\n",
      "Epoch 7/10\n",
      "50000/50000 [==============================] - 2s 34us/step - loss: 0.3952 - acc: 0.8568 - val_loss: 0.4323 - val_acc: 0.8417\n",
      "Epoch 8/10\n",
      "50000/50000 [==============================] - 2s 36us/step - loss: 0.3871 - acc: 0.8603 - val_loss: 0.4063 - val_acc: 0.8509\n",
      "Epoch 9/10\n",
      "50000/50000 [==============================] - 2s 36us/step - loss: 0.3792 - acc: 0.8622 - val_loss: 0.4184 - val_acc: 0.8482\n",
      "Epoch 10/10\n",
      "50000/50000 [==============================] - 2s 34us/step - loss: 0.3755 - acc: 0.8620 - val_loss: 0.4283 - val_acc: 0.8462\n"
     ]
    },
    {
     "data": {
      "text/plain": [
       "<tensorflow.python.keras.callbacks.History at 0x1a4d885ac8>"
      ]
     },
     "execution_count": 5,
     "metadata": {},
     "output_type": "execute_result"
    }
   ],
   "source": [
    "epochs = 10 \n",
    "\n",
    "multilayer_model.fit(X_train.reshape((-1,28*28)), \n",
    "                          Y_train, \n",
    "                          epochs=epochs, \n",
    "                          batch_size=100,\n",
    "                          validation_data=(X_val.reshape((-1,28*28)), Y_val))"
   ]
  },
  {
   "cell_type": "markdown",
   "metadata": {},
   "source": [
    "# 4. 모델 평가하기"
   ]
  },
  {
   "cell_type": "code",
   "execution_count": 6,
   "metadata": {
    "scrolled": true
   },
   "outputs": [
    {
     "name": "stdout",
     "output_type": "stream",
     "text": [
      "10000/10000 [==============================] - 0s 29us/step\n",
      "\n",
      "loss_and_metrics : [0.43909759550094607, 0.8394]\n"
     ]
    }
   ],
   "source": [
    "loss_and_metrics = multilayer_model.evaluate(X_test.reshape((-1,28*28)), Y_test, batch_size=32)\n",
    "print('')\n",
    "print('loss_and_metrics : ' + str(loss_and_metrics))"
   ]
  },
  {
   "cell_type": "code",
   "execution_count": null,
   "metadata": {},
   "outputs": [],
   "source": []
  }
 ],
 "metadata": {
  "kernelspec": {
   "display_name": "Python 3",
   "language": "python",
   "name": "python3"
  },
  "language_info": {
   "codemirror_mode": {
    "name": "ipython",
    "version": 3
   },
   "file_extension": ".py",
   "mimetype": "text/x-python",
   "name": "python",
   "nbconvert_exporter": "python",
   "pygments_lexer": "ipython3",
   "version": "3.6.7"
  },
  "toc": {
   "base_numbering": 1,
   "nav_menu": {},
   "number_sections": true,
   "sideBar": true,
   "skip_h1_title": false,
   "title_cell": "Table of Contents",
   "title_sidebar": "Contents",
   "toc_cell": false,
   "toc_position": {},
   "toc_section_display": true,
   "toc_window_display": false
  },
  "varInspector": {
   "cols": {
    "lenName": 16,
    "lenType": 16,
    "lenVar": 40
   },
   "kernels_config": {
    "python": {
     "delete_cmd_postfix": "",
     "delete_cmd_prefix": "del ",
     "library": "var_list.py",
     "varRefreshCmd": "print(var_dic_list())"
    },
    "r": {
     "delete_cmd_postfix": ") ",
     "delete_cmd_prefix": "rm(",
     "library": "var_list.r",
     "varRefreshCmd": "cat(var_dic_list()) "
    }
   },
   "types_to_exclude": [
    "module",
    "function",
    "builtin_function_or_method",
    "instance",
    "_Feature"
   ],
   "window_display": false
  }
 },
 "nbformat": 4,
 "nbformat_minor": 2
}
