{
 "cells": [
  {
   "cell_type": "markdown",
   "metadata": {},
   "source": [
    "## Fashion-Mnist Data\n",
    "![fashion-mnist](../fashion-mnist.png)\n"
   ]
  },
  {
   "cell_type": "markdown",
   "metadata": {},
   "source": [
    "Fashion-MNIST 데이터셋에는 10개의 카테고리가 있습니다.\n",
    "\n",
    "레이블 설명\n",
    "\n",
    "- 티셔츠/탑 \n",
    "- 바지 \n",
    "- 풀오버(스웨터의 일종) \n",
    "- 드레스 \n",
    "- 코트 \n",
    "- 샌들 \n",
    "- 셔츠 \n",
    "- 스니커즈 \n",
    "- 가방 \n",
    "- 앵클 부츠"
   ]
  },
  {
   "cell_type": "code",
   "execution_count": 4,
   "metadata": {},
   "outputs": [
    {
     "data": {
      "text/plain": [
       "(60000,)"
      ]
     },
     "execution_count": 4,
     "metadata": {},
     "output_type": "execute_result"
    }
   ],
   "source": [
    "import tensorflow as tf\n",
    "\n",
    "import numpy as np\n",
    "import matplotlib.pyplot as plt\n",
    "\n",
    "# 미리 섞여진 fashoin-mnist의 학습 데이터와 테스트 데이터 로드\n",
    "# (학습 이미지, 학습 레이블), (테스트 이미지, 테스트 레이블)\n",
    "(x_train, y_train), (x_test, y_test) = tf.keras.datasets.fashion_mnist.load_data()\n",
    "x_train.shape\n",
    "x_test.shape\n",
    "y_train.shape"
   ]
  },
  {
   "cell_type": "code",
   "execution_count": 3,
   "metadata": {},
   "outputs": [
    {
     "name": "stdout",
     "output_type": "stream",
     "text": [
      "y = 2 Pullover\n"
     ]
    },
    {
     "data": {
      "text/plain": [
       "<matplotlib.image.AxesImage at 0xb3e10df28>"
      ]
     },
     "execution_count": 3,
     "metadata": {},
     "output_type": "execute_result"
    },
    {
     "data": {
      "image/png": "[encoded data removed]",
      "text/plain": [
       "<Figure size 432x288 with 1 Axes>"
      ]
     },
     "metadata": {
      "needs_background": "light"
     },
     "output_type": "display_data"
    }
   ],
   "source": [
    "# 레이블 정의\n",
    "fashion_mnist_labels = [\"T-shirt/top\",  # 인덱스 0\n",
    "                        \"Trouser\",      # 인덱스 1\n",
    "                        \"Pullover\",     # 인덱스 2 \n",
    "                        \"Dress\",        # 인덱스 3 \n",
    "                        \"Coat\",         # 인덱스 4\n",
    "                        \"Sandal\",       # 인덱스 5\n",
    "                        \"Shirt\",        # 인덱스 6 \n",
    "                        \"Sneaker\",      # 인덱스 7 \n",
    "                        \"Bag\",          # 인덱스 8 \n",
    "                        \"Ankle boot\"]   # 인덱스 9\n",
    "\n",
    "# 이미지 인덱스, 0에서 59,999 사이의 숫자를 선택할 수 있습니다.\n",
    "img_index = 5\n",
    "# y_train 은 에서 9까지의 레이블 포함합니다.\n",
    "label_index = y_train[img_index]\n",
    "# 레이블 출력해 봅니다. 예를들어 2 Pullover\n",
    "print (\"y = \" + str(label_index) + \" \" +(fashion_mnist_labels[label_index]))\n",
    "# 학습 데이터 중에서 이미지 한 장을 보여줍니다.\n",
    "plt.imshow(x_train[img_index])"
   ]
  },
  {
   "cell_type": "code",
   "execution_count": null,
   "metadata": {},
   "outputs": [],
   "source": []
  }
 ],
 "metadata": {
  "kernelspec": {
   "display_name": "Python 3",
   "language": "python",
   "name": "python3"
  },
  "language_info": {
   "codemirror_mode": {
    "name": "ipython",
    "version": 3
   },
   "file_extension": ".py",
   "mimetype": "text/x-python",
   "name": "python",
   "nbconvert_exporter": "python",
   "pygments_lexer": "ipython3",
   "version": "3.6.7"
  }
 },
 "nbformat": 4,
 "nbformat_minor": 2
}
