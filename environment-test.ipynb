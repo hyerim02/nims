{
 "cells": [
  {
   "cell_type": "markdown",
   "metadata": {},
   "source": [
    "# 환경 테스트"
   ]
  },
  {
   "cell_type": "code",
   "execution_count": null,
   "metadata": {},
   "outputs": [],
   "source": [
    "import os\n",
    "import sys\n",
    "\n",
    "# Scientific computation\n",
    "import numpy as np\n",
    "import scipy as sp\n",
    "import pandas as pd\n",
    "import xgboost as xgb\n",
    "\n",
    "# Deep learning\n",
    "import tensorflow as tf\n",
    "import tensorflow.keras as keras\n",
    "\n",
    "# Visualization\n",
    "import matplotlib as mpl\n",
    "import matplotlib.pyplot as plt\n",
    "%matplotlib inline\n",
    "import bokeh\n",
    "import folium\n",
    "import graphviz\n",
    "import pydot\n",
    "\n",
    "# Font detection\n",
    "import matplotlib.font_manager as fm\n",
    "from fontTools.ttLib import TTFont\n",
    "fm._rebuild()\n",
    "\n",
    "# Eye candy\n",
    "from tqdm import tqdm\n",
    "\n",
    "print(sys.version)\n",
    "for m in [np, sp, pd, xgb, tf, keras, mpl, bokeh, folium, graphviz, pydot]:\n",
    "    print(f'{m.__name__}: {m.__version__}')\n",
    "\n",
    "print(f\"Current Environment: {os.environ['CONDA_DEFAULT_ENV']}\")\n",
    "assert(os.environ['CONDA_DEFAULT_ENV'] == 'nims-academy')"
   ]
  },
  {
   "cell_type": "markdown",
   "metadata": {},
   "source": [
    "Current Environment가 \"base\"로 나오고 실행이 멈추는 경우 Anaconda Navigator에서 nims-academy를 선택하지 않았거나, 터미널에서 \"conda activate nims-academy\"를 실행하지 않아 nims-academy가 아닌 기본 환경에서 실행 중이므로 종료하고 다시 실행합니다.\n",
    "\n",
    "현재 환경에 대한 더 자세한 내용은 `!conda info`를 실행하면 볼 수 있습니다."
   ]
  },
  {
   "cell_type": "markdown",
   "metadata": {},
   "source": [
    "## Matplotlib 한글 출력 테스트"
   ]
  },
  {
   "cell_type": "code",
   "execution_count": null,
   "metadata": {},
   "outputs": [],
   "source": [
    "def is_char_in_font(c, font):\n",
    "    for cmap in TTFont(font.fname)['cmap'].tables:\n",
    "        try:\n",
    "            if cmap.isUnicode() and ord(c) in cmap.cmap:\n",
    "                return True\n",
    "        except:  # Temporary\n",
    "            print(f'Error raised: {c}, {font}')\n",
    "    return False\n",
    "\n",
    "valid_font_set = set()\n",
    "for font in tqdm(fm.fontManager.ttflist):\n",
    "    if (is_char_in_font('한', font) \n",
    "            and is_char_in_font('a', font)\n",
    "            and is_char_in_font('0', font)\n",
    "           ):\n",
    "        valid_font_set.add(font.name)\n",
    "print(valid_font_set)"
   ]
  },
  {
   "cell_type": "code",
   "execution_count": null,
   "metadata": {},
   "outputs": [],
   "source": [
    "fig, ax = plt.subplots()\n",
    "for i, fontname in enumerate(valid_font_set):\n",
    "    ax.axis('off')\n",
    "    ax.text(\n",
    "        0, i / 5, f'{fontname}: 한글 1234 ABC xyz',\n",
    "        fontname=fontname,\n",
    "        fontsize=32,\n",
    "    )"
   ]
  },
  {
   "cell_type": "markdown",
   "metadata": {},
   "source": [
    "아래 셀의 `Malgun Gothic` 자리에, 위 리스트 중 원하는 글꼴 이름을 골라서 넣고, 제대로 출력되는지 확인합니다.\n",
    "\n",
    "Windows는 `Malgun Gothic`, Mac은 `AppleGothic`(띄어쓰기 없음) 글꼴은 기본적으로 포함하고 있는 경우가 많습니다."
   ]
  },
  {
   "cell_type": "code",
   "execution_count": null,
   "metadata": {},
   "outputs": [],
   "source": [
    "mpl.rc('font', family='Malgun Gothic')\n",
    "\n",
    "fig, ax = plt.subplots()\n",
    "ax.text(\n",
    "    0.5, 0.7, '한글 1234 ABC xyz',\n",
    "    fontsize='32',\n",
    "    horizontalalignment='center',\n",
    "    verticalalignment='center',\n",
    "    color='xkcd:dark red',\n",
    ")\n",
    "ax.text(\n",
    "    0.5, 0.3, r'수식: $\\int_0^{\\infty}\\frac{1}{x^2}$',\n",
    "    fontsize='32',\n",
    "    horizontalalignment='center',\n",
    "    verticalalignment='center',\n",
    "    color='xkcd:dark red',\n",
    ")"
   ]
  },
  {
   "cell_type": "markdown",
   "metadata": {},
   "source": [
    "한글이 잘 보인다면, 앞으로 다른 notebook에서는 `import matplotlib as mpl`과 `mpl.rc('font', family='...')` 부분만 넣으면 한글 출력이 가능합니다."
   ]
  },
  {
   "cell_type": "markdown",
   "metadata": {},
   "source": [
    "## 패키지 테스트"
   ]
  },
  {
   "cell_type": "markdown",
   "metadata": {},
   "source": [
    "### Folium"
   ]
  },
  {
   "cell_type": "code",
   "execution_count": null,
   "metadata": {},
   "outputs": [],
   "source": [
    "import folium\n",
    "folium.Map(location=(37.292137, 127.017182), zoom_start=18)"
   ]
  },
  {
   "cell_type": "markdown",
   "metadata": {},
   "source": [
    "### Tensorflow"
   ]
  },
  {
   "cell_type": "code",
   "execution_count": null,
   "metadata": {},
   "outputs": [],
   "source": [
    "import tensorflow as tf\n",
    "from tensorflow.keras.datasets import fashion_mnist\n",
    "\n",
    "(X_train, y_train), (X_test, y_test) = fashion_mnist.load_data()\n",
    "print(X_train.shape)\n",
    "fig, ax = plt.subplots()\n",
    "ax.imshow(X_train[0])"
   ]
  },
  {
   "cell_type": "markdown",
   "metadata": {},
   "source": [
    "## References\n",
    "\n",
    "Unicode fonts:\n",
    "\n",
    "- https://jdhao.github.io/2018/04/08/matplotlib-unicode-character/\n",
    "- https://stackoverflow.com/questions/43834362/python-unicode-rendering-how-to-know-if-a-unicode-character-is-missing-from-the\n",
    "- https://unix.stackexchange.com/questions/247108/how-to-find-out-which-unicode-codepoints-are-defined-in-a-ttf-file\n",
    "- https://matplotlib.org/_modules/matplotlib/font_manager.html\n",
    "- https://matplotlib.org/api/font_manager_api.html"
   ]
  }
 ],
 "metadata": {
  "kernelspec": {
   "display_name": "Python (nims-academy)",
   "language": "python",
   "name": "conda-env-nims-academy-py"
  },
  "language_info": {
   "codemirror_mode": {
    "name": "ipython",
    "version": 3
   },
   "file_extension": ".py",
   "mimetype": "text/x-python",
   "name": "python",
   "nbconvert_exporter": "python",
   "pygments_lexer": "ipython3",
   "version": "3.6.7"
  }
 },
 "nbformat": 4,
 "nbformat_minor": 2
}
